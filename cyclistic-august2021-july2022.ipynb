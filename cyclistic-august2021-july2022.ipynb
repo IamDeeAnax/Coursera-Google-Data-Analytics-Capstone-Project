{
 "cells": [
  {
   "cell_type": "markdown",
   "id": "234b7f1e",
   "metadata": {
    "_execution_state": "idle",
    "_uuid": "051d70d956493feee0c6d64651c6a088724dca2a",
    "papermill": {
     "duration": 0.010025,
     "end_time": "2022-08-21T15:17:08.960217",
     "exception": false,
     "start_time": "2022-08-21T15:17:08.950192",
     "status": "completed"
    },
    "tags": []
   },
   "source": [
    "## Cyclistic : How Does a Bike-Share Navigate Speedy Success?"
   ]
  },
  {
   "cell_type": "markdown",
   "id": "9da00494",
   "metadata": {
    "papermill": {
     "duration": 0.005177,
     "end_time": "2022-08-21T15:17:08.970745",
     "exception": false,
     "start_time": "2022-08-21T15:17:08.965568",
     "status": "completed"
    },
    "tags": []
   },
   "source": [
    "## INTRODUCTION\n",
    " In order to complete my Google Data Analytics certification plan, I was presented with a case study that I need to complete. The case study topic is \"How does a bike-share navigate speedy success?\". I will be following the steps of the data analysis process: **ask, prepare, process, analyze, share, and act**. "
   ]
  },
  {
   "cell_type": "markdown",
   "id": "63df959b",
   "metadata": {
    "papermill": {
     "duration": 0.005088,
     "end_time": "2022-08-21T15:17:08.981061",
     "exception": false,
     "start_time": "2022-08-21T15:17:08.975973",
     "status": "completed"
    },
    "tags": []
   },
   "source": [
    "## ASK \n",
    "\n",
    "### What is the topic of this Case Study?\n",
    "This Case Study will entail how casual riders and annual members use cyclist bikes differently.\n",
    "\n",
    "### What is the problem you are trying to solve?\n",
    "The problem in this case study is to discover how annual members and casual riders use Cyclistic bikes differently. The result of this will be used to design a marketing strategies aimed at converting casual riders into annual members. The director of marketing (Lily Moreno) believes that’s the key to future growth.\n",
    "\n",
    "#### Business task: \n",
    "How do annual members and casual riders use Cyclistic bikes differently?\n",
    "\n",
    "### Who are the key stakeholder?\n",
    "#### Stakeholders are: \n",
    "* Company: Cyclistic with 5,800 bicycles and 600 docking stations\n",
    "* Lily Moreno- The director of marketing and manager cyclistic executive team\n",
    "\n",
    "#### Business Metrics used to measure the data in this Case Study:\n",
    "* Most used bikes between classic bikes, docked bikes, and electric bikes\n",
    "* The most trip time\n",
    "* 7 days bike usage\n",
    "* 12 month bike usage\n",
    "\n",
    "## PREPARE\n",
    "\n",
    "### Where is your data located?\n",
    "The data is located in [Amazon Web Server (AWS)](https://divvy-tripdata.s3.amazonaws.com/index.html) which is owned by Cyclistic company. It is first-party data.\n",
    "\n",
    "### How is the data organized?\n",
    "The data is stored as CSV file and are separated by month and year. There are columns like rider_id, rideable_type, started_at, ended_at, start_station_name, start_station_id, end_station_name, end_station_id, stat_lat, stat_lng, end_lat, end_lng and member_casual in all the dataset.\n",
    "\n",
    "### Are there issues with bias or credibility in this data? Does your data ROCCC?\n",
    "There are missing values in station name and ID column which is not needed in this analysis, aside that I can confirm that the data meets the ROCCC requirements which makes it a good data source. ROCCC means; Reliability, Original, Comprehensive, Current, Cited.\n",
    "\n",
    "### How are you addressing licensing, privacy, security, and accessibility?\n",
    "The data has been made available by Motivate International Inc and [licensed.](https://divvybikes.com/data-license-agreement) The data downloaded will be stored in my computer drive and google drive. The raw data of this case study will be inaccessible to the public, but the result of the processed data will be represented in tables, tibbles, and visualization.\n",
    "\n",
    "### How did you verify the data’s integrity?\n",
    "There are some missing values in the station names and ID column but the presence of longitude and latitude coordinates values shows that the data can be identified geographically. Though this won't be needed in this analysis."
   ]
  },
  {
   "cell_type": "markdown",
   "id": "22a6e604",
   "metadata": {
    "papermill": {
     "duration": 0.005267,
     "end_time": "2022-08-21T15:17:08.991990",
     "exception": false,
     "start_time": "2022-08-21T15:17:08.986723",
     "status": "completed"
    },
    "tags": []
   },
   "source": [
    "## PROCESS\n",
    "\n",
    "In this phase of the analysis, i will be using R programming language to process my data. I will install and load all the necessary packages in RStudio. There are 12 datasets to be used in this analysis and it will be imported into RStudio for the analysis, then compare the columns in each dataset to ensure consistency. The 12 datasets will be combined into one single dataset. The dataset will be cleaned by removing bad data like emmty rows, empty columns, negative values, NA values. Columns that are not needed in this analysis will also be removed. Additional columns like day, month, year, day_of_week and ride_length will be added to the data table to better aggregate the data for analysis.\n",
    "\n",
    "### installing packages\n",
    "\n",
    "* install.packages(\"tidyverse\")\n",
    "* install.packages(\"skimr\")\n",
    "* install.packages(\"janitor\")\n",
    "* install.packages(\"ggplot2\")\n",
    "* install.packages(\"lubridate\")"
   ]
  },
  {
   "cell_type": "code",
   "execution_count": 1,
   "id": "a3cb1c39",
   "metadata": {
    "execution": {
     "iopub.execute_input": "2022-08-21T15:17:09.010881Z",
     "iopub.status.busy": "2022-08-21T15:17:09.007075Z",
     "iopub.status.idle": "2022-08-21T15:17:10.769248Z",
     "shell.execute_reply": "2022-08-21T15:17:10.767347Z"
    },
    "papermill": {
     "duration": 1.775516,
     "end_time": "2022-08-21T15:17:10.772732",
     "exception": false,
     "start_time": "2022-08-21T15:17:08.997216",
     "status": "completed"
    },
    "tags": []
   },
   "outputs": [
    {
     "name": "stderr",
     "output_type": "stream",
     "text": [
      "── \u001b[1mAttaching packages\u001b[22m ─────────────────────────────────────── tidyverse 1.3.1 ──\n",
      "\n",
      "\u001b[32m✔\u001b[39m \u001b[34mggplot2\u001b[39m 3.3.6     \u001b[32m✔\u001b[39m \u001b[34mpurrr  \u001b[39m 0.3.4\n",
      "\u001b[32m✔\u001b[39m \u001b[34mtibble \u001b[39m 3.1.7     \u001b[32m✔\u001b[39m \u001b[34mdplyr  \u001b[39m 1.0.9\n",
      "\u001b[32m✔\u001b[39m \u001b[34mtidyr  \u001b[39m 1.2.0     \u001b[32m✔\u001b[39m \u001b[34mstringr\u001b[39m 1.4.0\n",
      "\u001b[32m✔\u001b[39m \u001b[34mreadr  \u001b[39m 2.1.2     \u001b[32m✔\u001b[39m \u001b[34mforcats\u001b[39m 0.5.1\n",
      "\n",
      "── \u001b[1mConflicts\u001b[22m ────────────────────────────────────────── tidyverse_conflicts() ──\n",
      "\u001b[31m✖\u001b[39m \u001b[34mdplyr\u001b[39m::\u001b[32mfilter()\u001b[39m masks \u001b[34mstats\u001b[39m::filter()\n",
      "\u001b[31m✖\u001b[39m \u001b[34mdplyr\u001b[39m::\u001b[32mlag()\u001b[39m    masks \u001b[34mstats\u001b[39m::lag()\n",
      "\n",
      "\n",
      "Attaching package: ‘lubridate’\n",
      "\n",
      "\n",
      "The following object is masked from ‘package:hms’:\n",
      "\n",
      "    hms\n",
      "\n",
      "\n",
      "The following objects are masked from ‘package:base’:\n",
      "\n",
      "    date, intersect, setdiff, union\n",
      "\n",
      "\n",
      "\n",
      "Attaching package: ‘janitor’\n",
      "\n",
      "\n",
      "The following objects are masked from ‘package:stats’:\n",
      "\n",
      "    chisq.test, fisher.test\n",
      "\n",
      "\n"
     ]
    }
   ],
   "source": [
    "# loading packages\n",
    "\n",
    "library(tidyverse)\n",
    "library(skimr)\n",
    "library(readr)\n",
    "library(hms) \n",
    "library(lubridate)\n",
    "library(ggplot2)\n",
    "library(dplyr)\n",
    "library(janitor)\n"
   ]
  },
  {
   "cell_type": "code",
   "execution_count": 2,
   "id": "9b077e76",
   "metadata": {
    "execution": {
     "iopub.execute_input": "2022-08-21T15:17:10.825499Z",
     "iopub.status.busy": "2022-08-21T15:17:10.792779Z",
     "iopub.status.idle": "2022-08-21T15:19:07.904267Z",
     "shell.execute_reply": "2022-08-21T15:19:07.902656Z"
    },
    "papermill": {
     "duration": 117.12491,
     "end_time": "2022-08-21T15:19:07.906784",
     "exception": false,
     "start_time": "2022-08-21T15:17:10.781874",
     "status": "completed"
    },
    "tags": []
   },
   "outputs": [
    {
     "data": {
      "text/html": [
       "<style>\n",
       ".list-inline {list-style: none; margin:0; padding: 0}\n",
       ".list-inline>li {display: inline-block}\n",
       ".list-inline>li:not(:last-child)::after {content: \"\\00b7\"; padding: 0 .5ex}\n",
       "</style>\n",
       "<ol class=list-inline><li>'ride_id'</li><li>'rideable_type'</li><li>'started_at'</li><li>'ended_at'</li><li>'start_station_name'</li><li>'start_station_id'</li><li>'end_station_name'</li><li>'end_station_id'</li><li>'start_lat'</li><li>'start_lng'</li><li>'end_lat'</li><li>'end_lng'</li><li>'member_casual'</li></ol>\n"
      ],
      "text/latex": [
       "\\begin{enumerate*}\n",
       "\\item 'ride\\_id'\n",
       "\\item 'rideable\\_type'\n",
       "\\item 'started\\_at'\n",
       "\\item 'ended\\_at'\n",
       "\\item 'start\\_station\\_name'\n",
       "\\item 'start\\_station\\_id'\n",
       "\\item 'end\\_station\\_name'\n",
       "\\item 'end\\_station\\_id'\n",
       "\\item 'start\\_lat'\n",
       "\\item 'start\\_lng'\n",
       "\\item 'end\\_lat'\n",
       "\\item 'end\\_lng'\n",
       "\\item 'member\\_casual'\n",
       "\\end{enumerate*}\n"
      ],
      "text/markdown": [
       "1. 'ride_id'\n",
       "2. 'rideable_type'\n",
       "3. 'started_at'\n",
       "4. 'ended_at'\n",
       "5. 'start_station_name'\n",
       "6. 'start_station_id'\n",
       "7. 'end_station_name'\n",
       "8. 'end_station_id'\n",
       "9. 'start_lat'\n",
       "10. 'start_lng'\n",
       "11. 'end_lat'\n",
       "12. 'end_lng'\n",
       "13. 'member_casual'\n",
       "\n",
       "\n"
      ],
      "text/plain": [
       " [1] \"ride_id\"            \"rideable_type\"      \"started_at\"        \n",
       " [4] \"ended_at\"           \"start_station_name\" \"start_station_id\"  \n",
       " [7] \"end_station_name\"   \"end_station_id\"     \"start_lat\"         \n",
       "[10] \"start_lng\"          \"end_lat\"            \"end_lng\"           \n",
       "[13] \"member_casual\"     "
      ]
     },
     "metadata": {},
     "output_type": "display_data"
    },
    {
     "data": {
      "text/html": [
       "<style>\n",
       ".list-inline {list-style: none; margin:0; padding: 0}\n",
       ".list-inline>li {display: inline-block}\n",
       ".list-inline>li:not(:last-child)::after {content: \"\\00b7\"; padding: 0 .5ex}\n",
       "</style>\n",
       "<ol class=list-inline><li>'ride_id'</li><li>'rideable_type'</li><li>'started_at'</li><li>'ended_at'</li><li>'start_station_name'</li><li>'start_station_id'</li><li>'end_station_name'</li><li>'end_station_id'</li><li>'start_lat'</li><li>'start_lng'</li><li>'end_lat'</li><li>'end_lng'</li><li>'member_casual'</li></ol>\n"
      ],
      "text/latex": [
       "\\begin{enumerate*}\n",
       "\\item 'ride\\_id'\n",
       "\\item 'rideable\\_type'\n",
       "\\item 'started\\_at'\n",
       "\\item 'ended\\_at'\n",
       "\\item 'start\\_station\\_name'\n",
       "\\item 'start\\_station\\_id'\n",
       "\\item 'end\\_station\\_name'\n",
       "\\item 'end\\_station\\_id'\n",
       "\\item 'start\\_lat'\n",
       "\\item 'start\\_lng'\n",
       "\\item 'end\\_lat'\n",
       "\\item 'end\\_lng'\n",
       "\\item 'member\\_casual'\n",
       "\\end{enumerate*}\n"
      ],
      "text/markdown": [
       "1. 'ride_id'\n",
       "2. 'rideable_type'\n",
       "3. 'started_at'\n",
       "4. 'ended_at'\n",
       "5. 'start_station_name'\n",
       "6. 'start_station_id'\n",
       "7. 'end_station_name'\n",
       "8. 'end_station_id'\n",
       "9. 'start_lat'\n",
       "10. 'start_lng'\n",
       "11. 'end_lat'\n",
       "12. 'end_lng'\n",
       "13. 'member_casual'\n",
       "\n",
       "\n"
      ],
      "text/plain": [
       " [1] \"ride_id\"            \"rideable_type\"      \"started_at\"        \n",
       " [4] \"ended_at\"           \"start_station_name\" \"start_station_id\"  \n",
       " [7] \"end_station_name\"   \"end_station_id\"     \"start_lat\"         \n",
       "[10] \"start_lng\"          \"end_lat\"            \"end_lng\"           \n",
       "[13] \"member_casual\"     "
      ]
     },
     "metadata": {},
     "output_type": "display_data"
    },
    {
     "data": {
      "text/html": [
       "<style>\n",
       ".list-inline {list-style: none; margin:0; padding: 0}\n",
       ".list-inline>li {display: inline-block}\n",
       ".list-inline>li:not(:last-child)::after {content: \"\\00b7\"; padding: 0 .5ex}\n",
       "</style>\n",
       "<ol class=list-inline><li>'ride_id'</li><li>'rideable_type'</li><li>'started_at'</li><li>'ended_at'</li><li>'start_station_name'</li><li>'start_station_id'</li><li>'end_station_name'</li><li>'end_station_id'</li><li>'start_lat'</li><li>'start_lng'</li><li>'end_lat'</li><li>'end_lng'</li><li>'member_casual'</li></ol>\n"
      ],
      "text/latex": [
       "\\begin{enumerate*}\n",
       "\\item 'ride\\_id'\n",
       "\\item 'rideable\\_type'\n",
       "\\item 'started\\_at'\n",
       "\\item 'ended\\_at'\n",
       "\\item 'start\\_station\\_name'\n",
       "\\item 'start\\_station\\_id'\n",
       "\\item 'end\\_station\\_name'\n",
       "\\item 'end\\_station\\_id'\n",
       "\\item 'start\\_lat'\n",
       "\\item 'start\\_lng'\n",
       "\\item 'end\\_lat'\n",
       "\\item 'end\\_lng'\n",
       "\\item 'member\\_casual'\n",
       "\\end{enumerate*}\n"
      ],
      "text/markdown": [
       "1. 'ride_id'\n",
       "2. 'rideable_type'\n",
       "3. 'started_at'\n",
       "4. 'ended_at'\n",
       "5. 'start_station_name'\n",
       "6. 'start_station_id'\n",
       "7. 'end_station_name'\n",
       "8. 'end_station_id'\n",
       "9. 'start_lat'\n",
       "10. 'start_lng'\n",
       "11. 'end_lat'\n",
       "12. 'end_lng'\n",
       "13. 'member_casual'\n",
       "\n",
       "\n"
      ],
      "text/plain": [
       " [1] \"ride_id\"            \"rideable_type\"      \"started_at\"        \n",
       " [4] \"ended_at\"           \"start_station_name\" \"start_station_id\"  \n",
       " [7] \"end_station_name\"   \"end_station_id\"     \"start_lat\"         \n",
       "[10] \"start_lng\"          \"end_lat\"            \"end_lng\"           \n",
       "[13] \"member_casual\"     "
      ]
     },
     "metadata": {},
     "output_type": "display_data"
    },
    {
     "data": {
      "text/html": [
       "<style>\n",
       ".list-inline {list-style: none; margin:0; padding: 0}\n",
       ".list-inline>li {display: inline-block}\n",
       ".list-inline>li:not(:last-child)::after {content: \"\\00b7\"; padding: 0 .5ex}\n",
       "</style>\n",
       "<ol class=list-inline><li>'ride_id'</li><li>'rideable_type'</li><li>'started_at'</li><li>'ended_at'</li><li>'start_station_name'</li><li>'start_station_id'</li><li>'end_station_name'</li><li>'end_station_id'</li><li>'start_lat'</li><li>'start_lng'</li><li>'end_lat'</li><li>'end_lng'</li><li>'member_casual'</li></ol>\n"
      ],
      "text/latex": [
       "\\begin{enumerate*}\n",
       "\\item 'ride\\_id'\n",
       "\\item 'rideable\\_type'\n",
       "\\item 'started\\_at'\n",
       "\\item 'ended\\_at'\n",
       "\\item 'start\\_station\\_name'\n",
       "\\item 'start\\_station\\_id'\n",
       "\\item 'end\\_station\\_name'\n",
       "\\item 'end\\_station\\_id'\n",
       "\\item 'start\\_lat'\n",
       "\\item 'start\\_lng'\n",
       "\\item 'end\\_lat'\n",
       "\\item 'end\\_lng'\n",
       "\\item 'member\\_casual'\n",
       "\\end{enumerate*}\n"
      ],
      "text/markdown": [
       "1. 'ride_id'\n",
       "2. 'rideable_type'\n",
       "3. 'started_at'\n",
       "4. 'ended_at'\n",
       "5. 'start_station_name'\n",
       "6. 'start_station_id'\n",
       "7. 'end_station_name'\n",
       "8. 'end_station_id'\n",
       "9. 'start_lat'\n",
       "10. 'start_lng'\n",
       "11. 'end_lat'\n",
       "12. 'end_lng'\n",
       "13. 'member_casual'\n",
       "\n",
       "\n"
      ],
      "text/plain": [
       " [1] \"ride_id\"            \"rideable_type\"      \"started_at\"        \n",
       " [4] \"ended_at\"           \"start_station_name\" \"start_station_id\"  \n",
       " [7] \"end_station_name\"   \"end_station_id\"     \"start_lat\"         \n",
       "[10] \"start_lng\"          \"end_lat\"            \"end_lng\"           \n",
       "[13] \"member_casual\"     "
      ]
     },
     "metadata": {},
     "output_type": "display_data"
    },
    {
     "data": {
      "text/html": [
       "<style>\n",
       ".list-inline {list-style: none; margin:0; padding: 0}\n",
       ".list-inline>li {display: inline-block}\n",
       ".list-inline>li:not(:last-child)::after {content: \"\\00b7\"; padding: 0 .5ex}\n",
       "</style>\n",
       "<ol class=list-inline><li>'ride_id'</li><li>'rideable_type'</li><li>'started_at'</li><li>'ended_at'</li><li>'start_station_name'</li><li>'start_station_id'</li><li>'end_station_name'</li><li>'end_station_id'</li><li>'start_lat'</li><li>'start_lng'</li><li>'end_lat'</li><li>'end_lng'</li><li>'member_casual'</li></ol>\n"
      ],
      "text/latex": [
       "\\begin{enumerate*}\n",
       "\\item 'ride\\_id'\n",
       "\\item 'rideable\\_type'\n",
       "\\item 'started\\_at'\n",
       "\\item 'ended\\_at'\n",
       "\\item 'start\\_station\\_name'\n",
       "\\item 'start\\_station\\_id'\n",
       "\\item 'end\\_station\\_name'\n",
       "\\item 'end\\_station\\_id'\n",
       "\\item 'start\\_lat'\n",
       "\\item 'start\\_lng'\n",
       "\\item 'end\\_lat'\n",
       "\\item 'end\\_lng'\n",
       "\\item 'member\\_casual'\n",
       "\\end{enumerate*}\n"
      ],
      "text/markdown": [
       "1. 'ride_id'\n",
       "2. 'rideable_type'\n",
       "3. 'started_at'\n",
       "4. 'ended_at'\n",
       "5. 'start_station_name'\n",
       "6. 'start_station_id'\n",
       "7. 'end_station_name'\n",
       "8. 'end_station_id'\n",
       "9. 'start_lat'\n",
       "10. 'start_lng'\n",
       "11. 'end_lat'\n",
       "12. 'end_lng'\n",
       "13. 'member_casual'\n",
       "\n",
       "\n"
      ],
      "text/plain": [
       " [1] \"ride_id\"            \"rideable_type\"      \"started_at\"        \n",
       " [4] \"ended_at\"           \"start_station_name\" \"start_station_id\"  \n",
       " [7] \"end_station_name\"   \"end_station_id\"     \"start_lat\"         \n",
       "[10] \"start_lng\"          \"end_lat\"            \"end_lng\"           \n",
       "[13] \"member_casual\"     "
      ]
     },
     "metadata": {},
     "output_type": "display_data"
    },
    {
     "data": {
      "text/html": [
       "<style>\n",
       ".list-inline {list-style: none; margin:0; padding: 0}\n",
       ".list-inline>li {display: inline-block}\n",
       ".list-inline>li:not(:last-child)::after {content: \"\\00b7\"; padding: 0 .5ex}\n",
       "</style>\n",
       "<ol class=list-inline><li>'ride_id'</li><li>'rideable_type'</li><li>'started_at'</li><li>'ended_at'</li><li>'start_station_name'</li><li>'start_station_id'</li><li>'end_station_name'</li><li>'end_station_id'</li><li>'start_lat'</li><li>'start_lng'</li><li>'end_lat'</li><li>'end_lng'</li><li>'member_casual'</li></ol>\n"
      ],
      "text/latex": [
       "\\begin{enumerate*}\n",
       "\\item 'ride\\_id'\n",
       "\\item 'rideable\\_type'\n",
       "\\item 'started\\_at'\n",
       "\\item 'ended\\_at'\n",
       "\\item 'start\\_station\\_name'\n",
       "\\item 'start\\_station\\_id'\n",
       "\\item 'end\\_station\\_name'\n",
       "\\item 'end\\_station\\_id'\n",
       "\\item 'start\\_lat'\n",
       "\\item 'start\\_lng'\n",
       "\\item 'end\\_lat'\n",
       "\\item 'end\\_lng'\n",
       "\\item 'member\\_casual'\n",
       "\\end{enumerate*}\n"
      ],
      "text/markdown": [
       "1. 'ride_id'\n",
       "2. 'rideable_type'\n",
       "3. 'started_at'\n",
       "4. 'ended_at'\n",
       "5. 'start_station_name'\n",
       "6. 'start_station_id'\n",
       "7. 'end_station_name'\n",
       "8. 'end_station_id'\n",
       "9. 'start_lat'\n",
       "10. 'start_lng'\n",
       "11. 'end_lat'\n",
       "12. 'end_lng'\n",
       "13. 'member_casual'\n",
       "\n",
       "\n"
      ],
      "text/plain": [
       " [1] \"ride_id\"            \"rideable_type\"      \"started_at\"        \n",
       " [4] \"ended_at\"           \"start_station_name\" \"start_station_id\"  \n",
       " [7] \"end_station_name\"   \"end_station_id\"     \"start_lat\"         \n",
       "[10] \"start_lng\"          \"end_lat\"            \"end_lng\"           \n",
       "[13] \"member_casual\"     "
      ]
     },
     "metadata": {},
     "output_type": "display_data"
    },
    {
     "data": {
      "text/html": [
       "<style>\n",
       ".list-inline {list-style: none; margin:0; padding: 0}\n",
       ".list-inline>li {display: inline-block}\n",
       ".list-inline>li:not(:last-child)::after {content: \"\\00b7\"; padding: 0 .5ex}\n",
       "</style>\n",
       "<ol class=list-inline><li>'ride_id'</li><li>'rideable_type'</li><li>'started_at'</li><li>'ended_at'</li><li>'start_station_name'</li><li>'start_station_id'</li><li>'end_station_name'</li><li>'end_station_id'</li><li>'start_lat'</li><li>'start_lng'</li><li>'end_lat'</li><li>'end_lng'</li><li>'member_casual'</li></ol>\n"
      ],
      "text/latex": [
       "\\begin{enumerate*}\n",
       "\\item 'ride\\_id'\n",
       "\\item 'rideable\\_type'\n",
       "\\item 'started\\_at'\n",
       "\\item 'ended\\_at'\n",
       "\\item 'start\\_station\\_name'\n",
       "\\item 'start\\_station\\_id'\n",
       "\\item 'end\\_station\\_name'\n",
       "\\item 'end\\_station\\_id'\n",
       "\\item 'start\\_lat'\n",
       "\\item 'start\\_lng'\n",
       "\\item 'end\\_lat'\n",
       "\\item 'end\\_lng'\n",
       "\\item 'member\\_casual'\n",
       "\\end{enumerate*}\n"
      ],
      "text/markdown": [
       "1. 'ride_id'\n",
       "2. 'rideable_type'\n",
       "3. 'started_at'\n",
       "4. 'ended_at'\n",
       "5. 'start_station_name'\n",
       "6. 'start_station_id'\n",
       "7. 'end_station_name'\n",
       "8. 'end_station_id'\n",
       "9. 'start_lat'\n",
       "10. 'start_lng'\n",
       "11. 'end_lat'\n",
       "12. 'end_lng'\n",
       "13. 'member_casual'\n",
       "\n",
       "\n"
      ],
      "text/plain": [
       " [1] \"ride_id\"            \"rideable_type\"      \"started_at\"        \n",
       " [4] \"ended_at\"           \"start_station_name\" \"start_station_id\"  \n",
       " [7] \"end_station_name\"   \"end_station_id\"     \"start_lat\"         \n",
       "[10] \"start_lng\"          \"end_lat\"            \"end_lng\"           \n",
       "[13] \"member_casual\"     "
      ]
     },
     "metadata": {},
     "output_type": "display_data"
    },
    {
     "data": {
      "text/html": [
       "<style>\n",
       ".list-inline {list-style: none; margin:0; padding: 0}\n",
       ".list-inline>li {display: inline-block}\n",
       ".list-inline>li:not(:last-child)::after {content: \"\\00b7\"; padding: 0 .5ex}\n",
       "</style>\n",
       "<ol class=list-inline><li>'ride_id'</li><li>'rideable_type'</li><li>'started_at'</li><li>'ended_at'</li><li>'start_station_name'</li><li>'start_station_id'</li><li>'end_station_name'</li><li>'end_station_id'</li><li>'start_lat'</li><li>'start_lng'</li><li>'end_lat'</li><li>'end_lng'</li><li>'member_casual'</li></ol>\n"
      ],
      "text/latex": [
       "\\begin{enumerate*}\n",
       "\\item 'ride\\_id'\n",
       "\\item 'rideable\\_type'\n",
       "\\item 'started\\_at'\n",
       "\\item 'ended\\_at'\n",
       "\\item 'start\\_station\\_name'\n",
       "\\item 'start\\_station\\_id'\n",
       "\\item 'end\\_station\\_name'\n",
       "\\item 'end\\_station\\_id'\n",
       "\\item 'start\\_lat'\n",
       "\\item 'start\\_lng'\n",
       "\\item 'end\\_lat'\n",
       "\\item 'end\\_lng'\n",
       "\\item 'member\\_casual'\n",
       "\\end{enumerate*}\n"
      ],
      "text/markdown": [
       "1. 'ride_id'\n",
       "2. 'rideable_type'\n",
       "3. 'started_at'\n",
       "4. 'ended_at'\n",
       "5. 'start_station_name'\n",
       "6. 'start_station_id'\n",
       "7. 'end_station_name'\n",
       "8. 'end_station_id'\n",
       "9. 'start_lat'\n",
       "10. 'start_lng'\n",
       "11. 'end_lat'\n",
       "12. 'end_lng'\n",
       "13. 'member_casual'\n",
       "\n",
       "\n"
      ],
      "text/plain": [
       " [1] \"ride_id\"            \"rideable_type\"      \"started_at\"        \n",
       " [4] \"ended_at\"           \"start_station_name\" \"start_station_id\"  \n",
       " [7] \"end_station_name\"   \"end_station_id\"     \"start_lat\"         \n",
       "[10] \"start_lng\"          \"end_lat\"            \"end_lng\"           \n",
       "[13] \"member_casual\"     "
      ]
     },
     "metadata": {},
     "output_type": "display_data"
    },
    {
     "data": {
      "text/html": [
       "<style>\n",
       ".list-inline {list-style: none; margin:0; padding: 0}\n",
       ".list-inline>li {display: inline-block}\n",
       ".list-inline>li:not(:last-child)::after {content: \"\\00b7\"; padding: 0 .5ex}\n",
       "</style>\n",
       "<ol class=list-inline><li>'ride_id'</li><li>'rideable_type'</li><li>'started_at'</li><li>'ended_at'</li><li>'start_station_name'</li><li>'start_station_id'</li><li>'end_station_name'</li><li>'end_station_id'</li><li>'start_lat'</li><li>'start_lng'</li><li>'end_lat'</li><li>'end_lng'</li><li>'member_casual'</li></ol>\n"
      ],
      "text/latex": [
       "\\begin{enumerate*}\n",
       "\\item 'ride\\_id'\n",
       "\\item 'rideable\\_type'\n",
       "\\item 'started\\_at'\n",
       "\\item 'ended\\_at'\n",
       "\\item 'start\\_station\\_name'\n",
       "\\item 'start\\_station\\_id'\n",
       "\\item 'end\\_station\\_name'\n",
       "\\item 'end\\_station\\_id'\n",
       "\\item 'start\\_lat'\n",
       "\\item 'start\\_lng'\n",
       "\\item 'end\\_lat'\n",
       "\\item 'end\\_lng'\n",
       "\\item 'member\\_casual'\n",
       "\\end{enumerate*}\n"
      ],
      "text/markdown": [
       "1. 'ride_id'\n",
       "2. 'rideable_type'\n",
       "3. 'started_at'\n",
       "4. 'ended_at'\n",
       "5. 'start_station_name'\n",
       "6. 'start_station_id'\n",
       "7. 'end_station_name'\n",
       "8. 'end_station_id'\n",
       "9. 'start_lat'\n",
       "10. 'start_lng'\n",
       "11. 'end_lat'\n",
       "12. 'end_lng'\n",
       "13. 'member_casual'\n",
       "\n",
       "\n"
      ],
      "text/plain": [
       " [1] \"ride_id\"            \"rideable_type\"      \"started_at\"        \n",
       " [4] \"ended_at\"           \"start_station_name\" \"start_station_id\"  \n",
       " [7] \"end_station_name\"   \"end_station_id\"     \"start_lat\"         \n",
       "[10] \"start_lng\"          \"end_lat\"            \"end_lng\"           \n",
       "[13] \"member_casual\"     "
      ]
     },
     "metadata": {},
     "output_type": "display_data"
    },
    {
     "data": {
      "text/html": [
       "<style>\n",
       ".list-inline {list-style: none; margin:0; padding: 0}\n",
       ".list-inline>li {display: inline-block}\n",
       ".list-inline>li:not(:last-child)::after {content: \"\\00b7\"; padding: 0 .5ex}\n",
       "</style>\n",
       "<ol class=list-inline><li>'ride_id'</li><li>'rideable_type'</li><li>'started_at'</li><li>'ended_at'</li><li>'start_station_name'</li><li>'start_station_id'</li><li>'end_station_name'</li><li>'end_station_id'</li><li>'start_lat'</li><li>'start_lng'</li><li>'end_lat'</li><li>'end_lng'</li><li>'member_casual'</li></ol>\n"
      ],
      "text/latex": [
       "\\begin{enumerate*}\n",
       "\\item 'ride\\_id'\n",
       "\\item 'rideable\\_type'\n",
       "\\item 'started\\_at'\n",
       "\\item 'ended\\_at'\n",
       "\\item 'start\\_station\\_name'\n",
       "\\item 'start\\_station\\_id'\n",
       "\\item 'end\\_station\\_name'\n",
       "\\item 'end\\_station\\_id'\n",
       "\\item 'start\\_lat'\n",
       "\\item 'start\\_lng'\n",
       "\\item 'end\\_lat'\n",
       "\\item 'end\\_lng'\n",
       "\\item 'member\\_casual'\n",
       "\\end{enumerate*}\n"
      ],
      "text/markdown": [
       "1. 'ride_id'\n",
       "2. 'rideable_type'\n",
       "3. 'started_at'\n",
       "4. 'ended_at'\n",
       "5. 'start_station_name'\n",
       "6. 'start_station_id'\n",
       "7. 'end_station_name'\n",
       "8. 'end_station_id'\n",
       "9. 'start_lat'\n",
       "10. 'start_lng'\n",
       "11. 'end_lat'\n",
       "12. 'end_lng'\n",
       "13. 'member_casual'\n",
       "\n",
       "\n"
      ],
      "text/plain": [
       " [1] \"ride_id\"            \"rideable_type\"      \"started_at\"        \n",
       " [4] \"ended_at\"           \"start_station_name\" \"start_station_id\"  \n",
       " [7] \"end_station_name\"   \"end_station_id\"     \"start_lat\"         \n",
       "[10] \"start_lng\"          \"end_lat\"            \"end_lng\"           \n",
       "[13] \"member_casual\"     "
      ]
     },
     "metadata": {},
     "output_type": "display_data"
    },
    {
     "data": {
      "text/html": [
       "<style>\n",
       ".list-inline {list-style: none; margin:0; padding: 0}\n",
       ".list-inline>li {display: inline-block}\n",
       ".list-inline>li:not(:last-child)::after {content: \"\\00b7\"; padding: 0 .5ex}\n",
       "</style>\n",
       "<ol class=list-inline><li>'ride_id'</li><li>'rideable_type'</li><li>'started_at'</li><li>'ended_at'</li><li>'start_station_name'</li><li>'start_station_id'</li><li>'end_station_name'</li><li>'end_station_id'</li><li>'start_lat'</li><li>'start_lng'</li><li>'end_lat'</li><li>'end_lng'</li><li>'member_casual'</li></ol>\n"
      ],
      "text/latex": [
       "\\begin{enumerate*}\n",
       "\\item 'ride\\_id'\n",
       "\\item 'rideable\\_type'\n",
       "\\item 'started\\_at'\n",
       "\\item 'ended\\_at'\n",
       "\\item 'start\\_station\\_name'\n",
       "\\item 'start\\_station\\_id'\n",
       "\\item 'end\\_station\\_name'\n",
       "\\item 'end\\_station\\_id'\n",
       "\\item 'start\\_lat'\n",
       "\\item 'start\\_lng'\n",
       "\\item 'end\\_lat'\n",
       "\\item 'end\\_lng'\n",
       "\\item 'member\\_casual'\n",
       "\\end{enumerate*}\n"
      ],
      "text/markdown": [
       "1. 'ride_id'\n",
       "2. 'rideable_type'\n",
       "3. 'started_at'\n",
       "4. 'ended_at'\n",
       "5. 'start_station_name'\n",
       "6. 'start_station_id'\n",
       "7. 'end_station_name'\n",
       "8. 'end_station_id'\n",
       "9. 'start_lat'\n",
       "10. 'start_lng'\n",
       "11. 'end_lat'\n",
       "12. 'end_lng'\n",
       "13. 'member_casual'\n",
       "\n",
       "\n"
      ],
      "text/plain": [
       " [1] \"ride_id\"            \"rideable_type\"      \"started_at\"        \n",
       " [4] \"ended_at\"           \"start_station_name\" \"start_station_id\"  \n",
       " [7] \"end_station_name\"   \"end_station_id\"     \"start_lat\"         \n",
       "[10] \"start_lng\"          \"end_lat\"            \"end_lng\"           \n",
       "[13] \"member_casual\"     "
      ]
     },
     "metadata": {},
     "output_type": "display_data"
    },
    {
     "data": {
      "text/html": [
       "<style>\n",
       ".list-inline {list-style: none; margin:0; padding: 0}\n",
       ".list-inline>li {display: inline-block}\n",
       ".list-inline>li:not(:last-child)::after {content: \"\\00b7\"; padding: 0 .5ex}\n",
       "</style>\n",
       "<ol class=list-inline><li>'ride_id'</li><li>'rideable_type'</li><li>'started_at'</li><li>'ended_at'</li><li>'start_station_name'</li><li>'start_station_id'</li><li>'end_station_name'</li><li>'end_station_id'</li><li>'start_lat'</li><li>'start_lng'</li><li>'end_lat'</li><li>'end_lng'</li><li>'member_casual'</li></ol>\n"
      ],
      "text/latex": [
       "\\begin{enumerate*}\n",
       "\\item 'ride\\_id'\n",
       "\\item 'rideable\\_type'\n",
       "\\item 'started\\_at'\n",
       "\\item 'ended\\_at'\n",
       "\\item 'start\\_station\\_name'\n",
       "\\item 'start\\_station\\_id'\n",
       "\\item 'end\\_station\\_name'\n",
       "\\item 'end\\_station\\_id'\n",
       "\\item 'start\\_lat'\n",
       "\\item 'start\\_lng'\n",
       "\\item 'end\\_lat'\n",
       "\\item 'end\\_lng'\n",
       "\\item 'member\\_casual'\n",
       "\\end{enumerate*}\n"
      ],
      "text/markdown": [
       "1. 'ride_id'\n",
       "2. 'rideable_type'\n",
       "3. 'started_at'\n",
       "4. 'ended_at'\n",
       "5. 'start_station_name'\n",
       "6. 'start_station_id'\n",
       "7. 'end_station_name'\n",
       "8. 'end_station_id'\n",
       "9. 'start_lat'\n",
       "10. 'start_lng'\n",
       "11. 'end_lat'\n",
       "12. 'end_lng'\n",
       "13. 'member_casual'\n",
       "\n",
       "\n"
      ],
      "text/plain": [
       " [1] \"ride_id\"            \"rideable_type\"      \"started_at\"        \n",
       " [4] \"ended_at\"           \"start_station_name\" \"start_station_id\"  \n",
       " [7] \"end_station_name\"   \"end_station_id\"     \"start_lat\"         \n",
       "[10] \"start_lng\"          \"end_lat\"            \"end_lng\"           \n",
       "[13] \"member_casual\"     "
      ]
     },
     "metadata": {},
     "output_type": "display_data"
    }
   ],
   "source": [
    "# importing dataset\n",
    "\n",
    "tripdata_aug21 <- read.csv(\"../input/cyclistic-trip-data/202108-divvy-tripdata.csv\")\n",
    "tripdata_sep21 <- read.csv(\"../input/cyclistic-trip-data/202109-divvy-tripdata.csv\")\n",
    "tripdata_oct21 <- read.csv(\"../input/cyclistic-trip-data/202110-divvy-tripdata.csv\")\n",
    "tripdata_nov21 <- read.csv(\"../input/cyclistic-trip-data/202111-divvy-tripdata.csv\")\n",
    "tripdata_dec21 <- read.csv(\"../input/cyclistic-trip-data/202112-divvy-tripdata.csv\")\n",
    "tripdata_jan22 <- read.csv(\"../input/cyclistic-trip-data/202201-divvy-tripdata.csv\")\n",
    "tripdata_feb22 <- read.csv(\"../input/cyclistic-trip-data/202202-divvy-tripdata.csv\")\n",
    "tripdata_mar22 <- read.csv(\"../input/cyclistic-trip-data/202203-divvy-tripdata.csv\")\n",
    "tripdata_apr22 <- read.csv(\"../input/cyclistic-trip-data/202204-divvy-tripdata.csv\")\n",
    "tripdata_may22 <- read.csv(\"../input/cyclistic-trip-data/202205-divvy-tripdata.csv\")\n",
    "tripdata_jun22 <- read.csv(\"../input/cyclistic-trip-data/202206-divvy-tripdata.csv\")\n",
    "tripdata_jul22 <- read.csv(\"../input/cyclistic-trip-data/202207-divvy-tripdata.csv\")\n",
    "\n",
    "# compare the column names of each dataset\n",
    "\n",
    "colnames(tripdata_aug21)\n",
    "colnames(tripdata_sep21)\n",
    "colnames(tripdata_oct21)\n",
    "colnames(tripdata_nov21)\n",
    "colnames(tripdata_dec21)\n",
    "colnames(tripdata_jan22)\n",
    "colnames(tripdata_feb22)\n",
    "colnames(tripdata_mar22)\n",
    "colnames(tripdata_apr22)\n",
    "colnames(tripdata_may22)\n",
    "colnames(tripdata_jun22)\n",
    "colnames(tripdata_jul22)\n"
   ]
  },
  {
   "cell_type": "code",
   "execution_count": 3,
   "id": "a06ca802",
   "metadata": {
    "execution": {
     "iopub.execute_input": "2022-08-21T15:19:07.930558Z",
     "iopub.status.busy": "2022-08-21T15:19:07.929045Z",
     "iopub.status.idle": "2022-08-21T15:19:07.979993Z",
     "shell.execute_reply": "2022-08-21T15:19:07.977835Z"
    },
    "papermill": {
     "duration": 0.064387,
     "end_time": "2022-08-21T15:19:07.983042",
     "exception": false,
     "start_time": "2022-08-21T15:19:07.918655",
     "status": "completed"
    },
    "tags": []
   },
   "outputs": [
    {
     "data": {
      "text/html": [
       "<table class=\"dataframe\">\n",
       "<caption>A data.frame: 13 × 13</caption>\n",
       "<thead>\n",
       "\t<tr><th scope=col>column_name</th><th scope=col>tripdata_aug21</th><th scope=col>tripdata_sep21</th><th scope=col>tripdata_oct21</th><th scope=col>tripdata_nov21</th><th scope=col>tripdata_dec21</th><th scope=col>tripdata_jan22</th><th scope=col>tripdata_feb22</th><th scope=col>tripdata_mar22</th><th scope=col>tripdata_apr22</th><th scope=col>tripdata_may22</th><th scope=col>tripdata_jun22</th><th scope=col>tripdata_jul22</th></tr>\n",
       "\t<tr><th scope=col>&lt;chr&gt;</th><th scope=col>&lt;chr&gt;</th><th scope=col>&lt;chr&gt;</th><th scope=col>&lt;chr&gt;</th><th scope=col>&lt;chr&gt;</th><th scope=col>&lt;chr&gt;</th><th scope=col>&lt;chr&gt;</th><th scope=col>&lt;chr&gt;</th><th scope=col>&lt;chr&gt;</th><th scope=col>&lt;chr&gt;</th><th scope=col>&lt;chr&gt;</th><th scope=col>&lt;chr&gt;</th><th scope=col>&lt;chr&gt;</th></tr>\n",
       "</thead>\n",
       "<tbody>\n",
       "\t<tr><td>end_lat           </td><td>numeric  </td><td>numeric  </td><td>numeric  </td><td>numeric  </td><td>numeric  </td><td>numeric  </td><td>numeric  </td><td>numeric  </td><td>numeric  </td><td>numeric  </td><td>numeric  </td><td>numeric  </td></tr>\n",
       "\t<tr><td>end_lng           </td><td>numeric  </td><td>numeric  </td><td>numeric  </td><td>numeric  </td><td>numeric  </td><td>numeric  </td><td>numeric  </td><td>numeric  </td><td>numeric  </td><td>numeric  </td><td>numeric  </td><td>numeric  </td></tr>\n",
       "\t<tr><td>end_station_id    </td><td>character</td><td>character</td><td>character</td><td>character</td><td>character</td><td>character</td><td>character</td><td>character</td><td>character</td><td>character</td><td>character</td><td>character</td></tr>\n",
       "\t<tr><td>end_station_name  </td><td>character</td><td>character</td><td>character</td><td>character</td><td>character</td><td>character</td><td>character</td><td>character</td><td>character</td><td>character</td><td>character</td><td>character</td></tr>\n",
       "\t<tr><td>ended_at          </td><td>character</td><td>character</td><td>character</td><td>character</td><td>character</td><td>character</td><td>character</td><td>character</td><td>character</td><td>character</td><td>character</td><td>character</td></tr>\n",
       "\t<tr><td>member_casual     </td><td>character</td><td>character</td><td>character</td><td>character</td><td>character</td><td>character</td><td>character</td><td>character</td><td>character</td><td>character</td><td>character</td><td>character</td></tr>\n",
       "\t<tr><td>ride_id           </td><td>character</td><td>character</td><td>character</td><td>character</td><td>character</td><td>character</td><td>character</td><td>character</td><td>character</td><td>character</td><td>character</td><td>character</td></tr>\n",
       "\t<tr><td>rideable_type     </td><td>character</td><td>character</td><td>character</td><td>character</td><td>character</td><td>character</td><td>character</td><td>character</td><td>character</td><td>character</td><td>character</td><td>character</td></tr>\n",
       "\t<tr><td>start_lat         </td><td>numeric  </td><td>numeric  </td><td>numeric  </td><td>numeric  </td><td>numeric  </td><td>numeric  </td><td>numeric  </td><td>numeric  </td><td>numeric  </td><td>numeric  </td><td>numeric  </td><td>numeric  </td></tr>\n",
       "\t<tr><td>start_lng         </td><td>numeric  </td><td>numeric  </td><td>numeric  </td><td>numeric  </td><td>numeric  </td><td>numeric  </td><td>numeric  </td><td>numeric  </td><td>numeric  </td><td>numeric  </td><td>numeric  </td><td>numeric  </td></tr>\n",
       "\t<tr><td>start_station_id  </td><td>character</td><td>character</td><td>character</td><td>character</td><td>character</td><td>character</td><td>character</td><td>character</td><td>character</td><td>character</td><td>character</td><td>character</td></tr>\n",
       "\t<tr><td>start_station_name</td><td>character</td><td>character</td><td>character</td><td>character</td><td>character</td><td>character</td><td>character</td><td>character</td><td>character</td><td>character</td><td>character</td><td>character</td></tr>\n",
       "\t<tr><td>started_at        </td><td>character</td><td>character</td><td>character</td><td>character</td><td>character</td><td>character</td><td>character</td><td>character</td><td>character</td><td>character</td><td>character</td><td>character</td></tr>\n",
       "</tbody>\n",
       "</table>\n"
      ],
      "text/latex": [
       "A data.frame: 13 × 13\n",
       "\\begin{tabular}{lllllllllllll}\n",
       " column\\_name & tripdata\\_aug21 & tripdata\\_sep21 & tripdata\\_oct21 & tripdata\\_nov21 & tripdata\\_dec21 & tripdata\\_jan22 & tripdata\\_feb22 & tripdata\\_mar22 & tripdata\\_apr22 & tripdata\\_may22 & tripdata\\_jun22 & tripdata\\_jul22\\\\\n",
       " <chr> & <chr> & <chr> & <chr> & <chr> & <chr> & <chr> & <chr> & <chr> & <chr> & <chr> & <chr> & <chr>\\\\\n",
       "\\hline\n",
       "\t end\\_lat            & numeric   & numeric   & numeric   & numeric   & numeric   & numeric   & numeric   & numeric   & numeric   & numeric   & numeric   & numeric  \\\\\n",
       "\t end\\_lng            & numeric   & numeric   & numeric   & numeric   & numeric   & numeric   & numeric   & numeric   & numeric   & numeric   & numeric   & numeric  \\\\\n",
       "\t end\\_station\\_id     & character & character & character & character & character & character & character & character & character & character & character & character\\\\\n",
       "\t end\\_station\\_name   & character & character & character & character & character & character & character & character & character & character & character & character\\\\\n",
       "\t ended\\_at           & character & character & character & character & character & character & character & character & character & character & character & character\\\\\n",
       "\t member\\_casual      & character & character & character & character & character & character & character & character & character & character & character & character\\\\\n",
       "\t ride\\_id            & character & character & character & character & character & character & character & character & character & character & character & character\\\\\n",
       "\t rideable\\_type      & character & character & character & character & character & character & character & character & character & character & character & character\\\\\n",
       "\t start\\_lat          & numeric   & numeric   & numeric   & numeric   & numeric   & numeric   & numeric   & numeric   & numeric   & numeric   & numeric   & numeric  \\\\\n",
       "\t start\\_lng          & numeric   & numeric   & numeric   & numeric   & numeric   & numeric   & numeric   & numeric   & numeric   & numeric   & numeric   & numeric  \\\\\n",
       "\t start\\_station\\_id   & character & character & character & character & character & character & character & character & character & character & character & character\\\\\n",
       "\t start\\_station\\_name & character & character & character & character & character & character & character & character & character & character & character & character\\\\\n",
       "\t started\\_at         & character & character & character & character & character & character & character & character & character & character & character & character\\\\\n",
       "\\end{tabular}\n"
      ],
      "text/markdown": [
       "\n",
       "A data.frame: 13 × 13\n",
       "\n",
       "| column_name &lt;chr&gt; | tripdata_aug21 &lt;chr&gt; | tripdata_sep21 &lt;chr&gt; | tripdata_oct21 &lt;chr&gt; | tripdata_nov21 &lt;chr&gt; | tripdata_dec21 &lt;chr&gt; | tripdata_jan22 &lt;chr&gt; | tripdata_feb22 &lt;chr&gt; | tripdata_mar22 &lt;chr&gt; | tripdata_apr22 &lt;chr&gt; | tripdata_may22 &lt;chr&gt; | tripdata_jun22 &lt;chr&gt; | tripdata_jul22 &lt;chr&gt; |\n",
       "|---|---|---|---|---|---|---|---|---|---|---|---|---|\n",
       "| end_lat            | numeric   | numeric   | numeric   | numeric   | numeric   | numeric   | numeric   | numeric   | numeric   | numeric   | numeric   | numeric   |\n",
       "| end_lng            | numeric   | numeric   | numeric   | numeric   | numeric   | numeric   | numeric   | numeric   | numeric   | numeric   | numeric   | numeric   |\n",
       "| end_station_id     | character | character | character | character | character | character | character | character | character | character | character | character |\n",
       "| end_station_name   | character | character | character | character | character | character | character | character | character | character | character | character |\n",
       "| ended_at           | character | character | character | character | character | character | character | character | character | character | character | character |\n",
       "| member_casual      | character | character | character | character | character | character | character | character | character | character | character | character |\n",
       "| ride_id            | character | character | character | character | character | character | character | character | character | character | character | character |\n",
       "| rideable_type      | character | character | character | character | character | character | character | character | character | character | character | character |\n",
       "| start_lat          | numeric   | numeric   | numeric   | numeric   | numeric   | numeric   | numeric   | numeric   | numeric   | numeric   | numeric   | numeric   |\n",
       "| start_lng          | numeric   | numeric   | numeric   | numeric   | numeric   | numeric   | numeric   | numeric   | numeric   | numeric   | numeric   | numeric   |\n",
       "| start_station_id   | character | character | character | character | character | character | character | character | character | character | character | character |\n",
       "| start_station_name | character | character | character | character | character | character | character | character | character | character | character | character |\n",
       "| started_at         | character | character | character | character | character | character | character | character | character | character | character | character |\n",
       "\n"
      ],
      "text/plain": [
       "   column_name        tripdata_aug21 tripdata_sep21 tripdata_oct21\n",
       "1  end_lat            numeric        numeric        numeric       \n",
       "2  end_lng            numeric        numeric        numeric       \n",
       "3  end_station_id     character      character      character     \n",
       "4  end_station_name   character      character      character     \n",
       "5  ended_at           character      character      character     \n",
       "6  member_casual      character      character      character     \n",
       "7  ride_id            character      character      character     \n",
       "8  rideable_type      character      character      character     \n",
       "9  start_lat          numeric        numeric        numeric       \n",
       "10 start_lng          numeric        numeric        numeric       \n",
       "11 start_station_id   character      character      character     \n",
       "12 start_station_name character      character      character     \n",
       "13 started_at         character      character      character     \n",
       "   tripdata_nov21 tripdata_dec21 tripdata_jan22 tripdata_feb22 tripdata_mar22\n",
       "1  numeric        numeric        numeric        numeric        numeric       \n",
       "2  numeric        numeric        numeric        numeric        numeric       \n",
       "3  character      character      character      character      character     \n",
       "4  character      character      character      character      character     \n",
       "5  character      character      character      character      character     \n",
       "6  character      character      character      character      character     \n",
       "7  character      character      character      character      character     \n",
       "8  character      character      character      character      character     \n",
       "9  numeric        numeric        numeric        numeric        numeric       \n",
       "10 numeric        numeric        numeric        numeric        numeric       \n",
       "11 character      character      character      character      character     \n",
       "12 character      character      character      character      character     \n",
       "13 character      character      character      character      character     \n",
       "   tripdata_apr22 tripdata_may22 tripdata_jun22 tripdata_jul22\n",
       "1  numeric        numeric        numeric        numeric       \n",
       "2  numeric        numeric        numeric        numeric       \n",
       "3  character      character      character      character     \n",
       "4  character      character      character      character     \n",
       "5  character      character      character      character     \n",
       "6  character      character      character      character     \n",
       "7  character      character      character      character     \n",
       "8  character      character      character      character     \n",
       "9  numeric        numeric        numeric        numeric       \n",
       "10 numeric        numeric        numeric        numeric       \n",
       "11 character      character      character      character     \n",
       "12 character      character      character      character     \n",
       "13 character      character      character      character     "
      ]
     },
     "metadata": {},
     "output_type": "display_data"
    }
   ],
   "source": [
    "# compare all the columns in each dataframe to ensure consistency\n",
    "\n",
    "compare_df_cols(tripdata_aug21, tripdata_sep21, tripdata_oct21, tripdata_nov21, tripdata_dec21, tripdata_jan22, tripdata_feb22, tripdata_mar22, tripdata_apr22, tripdata_may22, tripdata_jun22,tripdata_jul22)"
   ]
  },
  {
   "cell_type": "code",
   "execution_count": 4,
   "id": "d609ee45",
   "metadata": {
    "execution": {
     "iopub.execute_input": "2022-08-21T15:19:08.003218Z",
     "iopub.status.busy": "2022-08-21T15:19:08.001596Z",
     "iopub.status.idle": "2022-08-21T15:20:21.563109Z",
     "shell.execute_reply": "2022-08-21T15:20:21.561295Z"
    },
    "papermill": {
     "duration": 73.574706,
     "end_time": "2022-08-21T15:20:21.566119",
     "exception": false,
     "start_time": "2022-08-21T15:19:07.991413",
     "status": "completed"
    },
    "tags": []
   },
   "outputs": [
    {
     "name": "stdout",
     "output_type": "stream",
     "text": [
      "'data.frame':\t5901463 obs. of  13 variables:\n",
      " $ ride_id           : chr  \"99103BB87CC6C1BB\" \"EAFCCCFB0A3FC5A1\" \"9EF4F46C57AD234D\" \"5834D3208BFAF1DA\" ...\n",
      " $ rideable_type     : chr  \"electric_bike\" \"electric_bike\" \"electric_bike\" \"electric_bike\" ...\n",
      " $ started_at        : chr  \"2021-08-10 17:15:49\" \"2021-08-10 17:23:14\" \"2021-08-21 02:34:23\" \"2021-08-21 06:52:55\" ...\n",
      " $ ended_at          : chr  \"2021-08-10 17:22:44\" \"2021-08-10 17:39:24\" \"2021-08-21 02:50:36\" \"2021-08-21 07:08:13\" ...\n",
      " $ start_station_name: chr  \"\" \"\" \"\" \"\" ...\n",
      " $ start_station_id  : chr  \"\" \"\" \"\" \"\" ...\n",
      " $ end_station_name  : chr  \"\" \"\" \"\" \"\" ...\n",
      " $ end_station_id    : chr  \"\" \"\" \"\" \"\" ...\n",
      " $ start_lat         : num  41.8 41.8 42 42 41.8 ...\n",
      " $ start_lng         : num  -87.7 -87.7 -87.7 -87.7 -87.6 ...\n",
      " $ end_lat           : num  41.8 41.8 42 42 41.8 ...\n",
      " $ end_lng           : num  -87.7 -87.6 -87.7 -87.7 -87.6 ...\n",
      " $ member_casual     : chr  \"member\" \"member\" \"member\" \"member\" ...\n"
     ]
    },
    {
     "data": {
      "text/html": [
       "<style>\n",
       ".list-inline {list-style: none; margin:0; padding: 0}\n",
       ".list-inline>li {display: inline-block}\n",
       ".list-inline>li:not(:last-child)::after {content: \"\\00b7\"; padding: 0 .5ex}\n",
       "</style>\n",
       "<ol class=list-inline><li>'ride_id'</li><li>'rideable_type'</li><li>'started_at'</li><li>'ended_at'</li><li>'start_lat'</li><li>'start_lng'</li><li>'end_lat'</li><li>'end_lng'</li><li>'member_casual'</li></ol>\n"
      ],
      "text/latex": [
       "\\begin{enumerate*}\n",
       "\\item 'ride\\_id'\n",
       "\\item 'rideable\\_type'\n",
       "\\item 'started\\_at'\n",
       "\\item 'ended\\_at'\n",
       "\\item 'start\\_lat'\n",
       "\\item 'start\\_lng'\n",
       "\\item 'end\\_lat'\n",
       "\\item 'end\\_lng'\n",
       "\\item 'member\\_casual'\n",
       "\\end{enumerate*}\n"
      ],
      "text/markdown": [
       "1. 'ride_id'\n",
       "2. 'rideable_type'\n",
       "3. 'started_at'\n",
       "4. 'ended_at'\n",
       "5. 'start_lat'\n",
       "6. 'start_lng'\n",
       "7. 'end_lat'\n",
       "8. 'end_lng'\n",
       "9. 'member_casual'\n",
       "\n",
       "\n"
      ],
      "text/plain": [
       "[1] \"ride_id\"       \"rideable_type\" \"started_at\"    \"ended_at\"     \n",
       "[5] \"start_lat\"     \"start_lng\"     \"end_lat\"       \"end_lng\"      \n",
       "[9] \"member_casual\""
      ]
     },
     "metadata": {},
     "output_type": "display_data"
    },
    {
     "data": {
      "text/html": [
       "<style>\n",
       ".list-inline {list-style: none; margin:0; padding: 0}\n",
       ".list-inline>li {display: inline-block}\n",
       ".list-inline>li:not(:last-child)::after {content: \"\\00b7\"; padding: 0 .5ex}\n",
       "</style>\n",
       "<ol class=list-inline><li>5895873</li><li>9</li></ol>\n"
      ],
      "text/latex": [
       "\\begin{enumerate*}\n",
       "\\item 5895873\n",
       "\\item 9\n",
       "\\end{enumerate*}\n"
      ],
      "text/markdown": [
       "1. 5895873\n",
       "2. 9\n",
       "\n",
       "\n"
      ],
      "text/plain": [
       "[1] 5895873       9"
      ]
     },
     "metadata": {},
     "output_type": "display_data"
    },
    {
     "data": {
      "text/html": [
       "5895873"
      ],
      "text/latex": [
       "5895873"
      ],
      "text/markdown": [
       "5895873"
      ],
      "text/plain": [
       "[1] 5895873"
      ]
     },
     "metadata": {},
     "output_type": "display_data"
    },
    {
     "name": "stdout",
     "output_type": "stream",
     "text": [
      "'data.frame':\t5895873 obs. of  9 variables:\n",
      " $ ride_id      : chr  \"99103BB87CC6C1BB\" \"EAFCCCFB0A3FC5A1\" \"9EF4F46C57AD234D\" \"5834D3208BFAF1DA\" ...\n",
      " $ rideable_type: chr  \"electric_bike\" \"electric_bike\" \"electric_bike\" \"electric_bike\" ...\n",
      " $ started_at   : POSIXct, format: \"2021-08-10 17:15:49\" \"2021-08-10 17:23:14\" ...\n",
      " $ ended_at     : POSIXct, format: \"2021-08-10 17:22:44\" \"2021-08-10 17:39:24\" ...\n",
      " $ start_lat    : num  41.8 41.8 42 42 41.8 ...\n",
      " $ start_lng    : num  -87.7 -87.7 -87.7 -87.7 -87.6 ...\n",
      " $ end_lat      : num  41.8 41.8 42 42 41.8 ...\n",
      " $ end_lng      : num  -87.7 -87.6 -87.7 -87.7 -87.6 ...\n",
      " $ member_casual: chr  \"member\" \"member\" \"member\" \"member\" ...\n"
     ]
    }
   ],
   "source": [
    "# combine all the data frames into one\n",
    "\n",
    "total_trips <- rbind(tripdata_aug21, tripdata_sep21, tripdata_oct21, tripdata_nov21, tripdata_dec21, tripdata_jan22, tripdata_feb22, tripdata_mar22, tripdata_apr22, tripdata_may22, tripdata_jun22,tripdata_jul22)\n",
    "\n",
    "# check the data frame structure\n",
    "\n",
    "str(total_trips)\n",
    "\n",
    "# convert started_at and ended_at from character type to POSIXct type\n",
    "\n",
    "total_trips$started_at <- as.POSIXct(total_trips$started_at, format = \"%Y-%m-%d %H:%M:%S\", tz = \"UTC\")\n",
    "total_trips$ended_at <- as.POSIXct(total_trips$ended_at, format = \"%Y-%m-%d %H:%M:%S\", tz = \"UTC\")\n",
    "\n",
    "# the dataset consist of empty rows and NA values so they need to be removed\n",
    "total_trips <- na.omit(total_trips)\n",
    "\n",
    "# there are columns with incomplete data and are not needed in the analysis, so i want to drop them and setting new table as total_trips2\n",
    "\n",
    "drops <- c('start_station_name', 'start_station_id', 'end_station_name', 'end_station_id')\n",
    "total_trips2 = total_trips[ , !(names(total_trips) %in% drops)]\n",
    "\n",
    "# reviewing the new table\n",
    "\n",
    "colnames(total_trips2)\n",
    "dim(total_trips2)\n",
    "nrow(total_trips2)\n",
    "str(total_trips2)\n",
    "\n",
    "# add columns like day, month, year, and days of the week \n",
    "\n",
    "total_trips2$date <- as.Date(total_trips2$started_at) #format yyyy-mm-dd\n",
    "total_trips2$month <- format(as.Date(total_trips2$date), \"%m\")\n",
    "total_trips2$day <- format(as.Date(total_trips2$date), \"%d\")\n",
    "total_trips2$year <- format(as.Date(total_trips2$date), \"%Y\")\n",
    "total_trips2$day_of_week <- format(as.Date(total_trips2$date), \"%A\")\n",
    "\n",
    "# adding another colomn like ride_length\n",
    "\n",
    "total_trips2$ride_length <- difftime(total_trips2$ended_at, total_trips2$started_at)"
   ]
  },
  {
   "cell_type": "code",
   "execution_count": 5,
   "id": "88536a6b",
   "metadata": {
    "execution": {
     "iopub.execute_input": "2022-08-21T15:20:21.589281Z",
     "iopub.status.busy": "2022-08-21T15:20:21.587816Z",
     "iopub.status.idle": "2022-08-21T15:20:21.634951Z",
     "shell.execute_reply": "2022-08-21T15:20:21.632388Z"
    },
    "papermill": {
     "duration": 0.061245,
     "end_time": "2022-08-21T15:20:21.637875",
     "exception": false,
     "start_time": "2022-08-21T15:20:21.576630",
     "status": "completed"
    },
    "tags": []
   },
   "outputs": [
    {
     "data": {
      "text/html": [
       "<style>\n",
       ".list-inline {list-style: none; margin:0; padding: 0}\n",
       ".list-inline>li {display: inline-block}\n",
       ".list-inline>li:not(:last-child)::after {content: \"\\00b7\"; padding: 0 .5ex}\n",
       "</style>\n",
       "<ol class=list-inline><li>'ride_id'</li><li>'rideable_type'</li><li>'started_at'</li><li>'ended_at'</li><li>'start_lat'</li><li>'start_lng'</li><li>'end_lat'</li><li>'end_lng'</li><li>'member_casual'</li><li>'date'</li><li>'month'</li><li>'day'</li><li>'year'</li><li>'day_of_week'</li><li>'ride_length'</li></ol>\n"
      ],
      "text/latex": [
       "\\begin{enumerate*}\n",
       "\\item 'ride\\_id'\n",
       "\\item 'rideable\\_type'\n",
       "\\item 'started\\_at'\n",
       "\\item 'ended\\_at'\n",
       "\\item 'start\\_lat'\n",
       "\\item 'start\\_lng'\n",
       "\\item 'end\\_lat'\n",
       "\\item 'end\\_lng'\n",
       "\\item 'member\\_casual'\n",
       "\\item 'date'\n",
       "\\item 'month'\n",
       "\\item 'day'\n",
       "\\item 'year'\n",
       "\\item 'day\\_of\\_week'\n",
       "\\item 'ride\\_length'\n",
       "\\end{enumerate*}\n"
      ],
      "text/markdown": [
       "1. 'ride_id'\n",
       "2. 'rideable_type'\n",
       "3. 'started_at'\n",
       "4. 'ended_at'\n",
       "5. 'start_lat'\n",
       "6. 'start_lng'\n",
       "7. 'end_lat'\n",
       "8. 'end_lng'\n",
       "9. 'member_casual'\n",
       "10. 'date'\n",
       "11. 'month'\n",
       "12. 'day'\n",
       "13. 'year'\n",
       "14. 'day_of_week'\n",
       "15. 'ride_length'\n",
       "\n",
       "\n"
      ],
      "text/plain": [
       " [1] \"ride_id\"       \"rideable_type\" \"started_at\"    \"ended_at\"     \n",
       " [5] \"start_lat\"     \"start_lng\"     \"end_lat\"       \"end_lng\"      \n",
       " [9] \"member_casual\" \"date\"          \"month\"         \"day\"          \n",
       "[13] \"year\"          \"day_of_week\"   \"ride_length\"  "
      ]
     },
     "metadata": {},
     "output_type": "display_data"
    },
    {
     "name": "stdout",
     "output_type": "stream",
     "text": [
      "'data.frame':\t5895873 obs. of  15 variables:\n",
      " $ ride_id      : chr  \"99103BB87CC6C1BB\" \"EAFCCCFB0A3FC5A1\" \"9EF4F46C57AD234D\" \"5834D3208BFAF1DA\" ...\n",
      " $ rideable_type: chr  \"electric_bike\" \"electric_bike\" \"electric_bike\" \"electric_bike\" ...\n",
      " $ started_at   : POSIXct, format: \"2021-08-10 17:15:49\" \"2021-08-10 17:23:14\" ...\n",
      " $ ended_at     : POSIXct, format: \"2021-08-10 17:22:44\" \"2021-08-10 17:39:24\" ...\n",
      " $ start_lat    : num  41.8 41.8 42 42 41.8 ...\n",
      " $ start_lng    : num  -87.7 -87.7 -87.7 -87.7 -87.6 ...\n",
      " $ end_lat      : num  41.8 41.8 42 42 41.8 ...\n",
      " $ end_lng      : num  -87.7 -87.6 -87.7 -87.7 -87.6 ...\n",
      " $ member_casual: chr  \"member\" \"member\" \"member\" \"member\" ...\n",
      " $ date         : Date, format: \"2021-08-10\" \"2021-08-10\" ...\n",
      " $ month        : chr  \"08\" \"08\" \"08\" \"08\" ...\n",
      " $ day          : chr  \"10\" \"10\" \"21\" \"21\" ...\n",
      " $ year         : chr  \"2021\" \"2021\" \"2021\" \"2021\" ...\n",
      " $ day_of_week  : chr  \"Tuesday\" \"Tuesday\" \"Saturday\" \"Saturday\" ...\n",
      " $ ride_length  : 'difftime' num  415 970 973 918 ...\n",
      "  ..- attr(*, \"units\")= chr \"secs\"\n"
     ]
    }
   ],
   "source": [
    "# review the table with added columns\n",
    "\n",
    "colnames(total_trips2)\n",
    "str(total_trips2)"
   ]
  },
  {
   "cell_type": "code",
   "execution_count": 6,
   "id": "07b6ee25",
   "metadata": {
    "execution": {
     "iopub.execute_input": "2022-08-21T15:20:21.659126Z",
     "iopub.status.busy": "2022-08-21T15:20:21.657518Z",
     "iopub.status.idle": "2022-08-21T15:20:42.435898Z",
     "shell.execute_reply": "2022-08-21T15:20:42.433686Z"
    },
    "papermill": {
     "duration": 20.792461,
     "end_time": "2022-08-21T15:20:42.439188",
     "exception": false,
     "start_time": "2022-08-21T15:20:21.646727",
     "status": "completed"
    },
    "tags": []
   },
   "outputs": [
    {
     "data": {
      "text/html": [
       "149"
      ],
      "text/latex": [
       "149"
      ],
      "text/markdown": [
       "149"
      ],
      "text/plain": [
       "[1] 149"
      ]
     },
     "metadata": {},
     "output_type": "display_data"
    },
    {
     "data": {
      "text/html": [
       "<style>\n",
       ".list-inline {list-style: none; margin:0; padding: 0}\n",
       ".list-inline>li {display: inline-block}\n",
       ".list-inline>li:not(:last-child)::after {content: \"\\00b7\"; padding: 0 .5ex}\n",
       "</style>\n",
       "<ol class=list-inline><li>5895724</li><li>15</li></ol>\n"
      ],
      "text/latex": [
       "\\begin{enumerate*}\n",
       "\\item 5895724\n",
       "\\item 15\n",
       "\\end{enumerate*}\n"
      ],
      "text/markdown": [
       "1. 5895724\n",
       "2. 15\n",
       "\n",
       "\n"
      ],
      "text/plain": [
       "[1] 5895724      15"
      ]
     },
     "metadata": {},
     "output_type": "display_data"
    },
    {
     "data": {
      "text/html": [
       "<style>\n",
       ".list-inline {list-style: none; margin:0; padding: 0}\n",
       ".list-inline>li {display: inline-block}\n",
       ".list-inline>li:not(:last-child)::after {content: \"\\00b7\"; padding: 0 .5ex}\n",
       "</style>\n",
       "<ol class=list-inline><li>'ride_id'</li><li>'rideable_type'</li><li>'started_at'</li><li>'ended_at'</li><li>'start_lat'</li><li>'start_lng'</li><li>'end_lat'</li><li>'end_lng'</li><li>'member_casual'</li><li>'date'</li><li>'month'</li><li>'day'</li><li>'year'</li><li>'day_of_week'</li><li>'ride_length'</li></ol>\n"
      ],
      "text/latex": [
       "\\begin{enumerate*}\n",
       "\\item 'ride\\_id'\n",
       "\\item 'rideable\\_type'\n",
       "\\item 'started\\_at'\n",
       "\\item 'ended\\_at'\n",
       "\\item 'start\\_lat'\n",
       "\\item 'start\\_lng'\n",
       "\\item 'end\\_lat'\n",
       "\\item 'end\\_lng'\n",
       "\\item 'member\\_casual'\n",
       "\\item 'date'\n",
       "\\item 'month'\n",
       "\\item 'day'\n",
       "\\item 'year'\n",
       "\\item 'day\\_of\\_week'\n",
       "\\item 'ride\\_length'\n",
       "\\end{enumerate*}\n"
      ],
      "text/markdown": [
       "1. 'ride_id'\n",
       "2. 'rideable_type'\n",
       "3. 'started_at'\n",
       "4. 'ended_at'\n",
       "5. 'start_lat'\n",
       "6. 'start_lng'\n",
       "7. 'end_lat'\n",
       "8. 'end_lng'\n",
       "9. 'member_casual'\n",
       "10. 'date'\n",
       "11. 'month'\n",
       "12. 'day'\n",
       "13. 'year'\n",
       "14. 'day_of_week'\n",
       "15. 'ride_length'\n",
       "\n",
       "\n"
      ],
      "text/plain": [
       " [1] \"ride_id\"       \"rideable_type\" \"started_at\"    \"ended_at\"     \n",
       " [5] \"start_lat\"     \"start_lng\"     \"end_lat\"       \"end_lng\"      \n",
       " [9] \"member_casual\" \"date\"          \"month\"         \"day\"          \n",
       "[13] \"year\"          \"day_of_week\"   \"ride_length\"  "
      ]
     },
     "metadata": {},
     "output_type": "display_data"
    },
    {
     "data": {
      "text/html": [
       "5895724"
      ],
      "text/latex": [
       "5895724"
      ],
      "text/markdown": [
       "5895724"
      ],
      "text/plain": [
       "[1] 5895724"
      ]
     },
     "metadata": {},
     "output_type": "display_data"
    },
    {
     "data": {
      "text/html": [
       "<table class=\"dataframe\">\n",
       "<caption>A data.frame: 6 × 15</caption>\n",
       "<thead>\n",
       "\t<tr><th></th><th scope=col>ride_id</th><th scope=col>rideable_type</th><th scope=col>started_at</th><th scope=col>ended_at</th><th scope=col>start_lat</th><th scope=col>start_lng</th><th scope=col>end_lat</th><th scope=col>end_lng</th><th scope=col>member_casual</th><th scope=col>date</th><th scope=col>month</th><th scope=col>day</th><th scope=col>year</th><th scope=col>day_of_week</th><th scope=col>ride_length</th></tr>\n",
       "\t<tr><th></th><th scope=col>&lt;chr&gt;</th><th scope=col>&lt;chr&gt;</th><th scope=col>&lt;dttm&gt;</th><th scope=col>&lt;dttm&gt;</th><th scope=col>&lt;dbl&gt;</th><th scope=col>&lt;dbl&gt;</th><th scope=col>&lt;dbl&gt;</th><th scope=col>&lt;dbl&gt;</th><th scope=col>&lt;chr&gt;</th><th scope=col>&lt;date&gt;</th><th scope=col>&lt;chr&gt;</th><th scope=col>&lt;chr&gt;</th><th scope=col>&lt;chr&gt;</th><th scope=col>&lt;chr&gt;</th><th scope=col>&lt;drtn&gt;</th></tr>\n",
       "</thead>\n",
       "<tbody>\n",
       "\t<tr><th scope=row>1</th><td>99103BB87CC6C1BB</td><td>electric_bike</td><td>2021-08-10 17:15:49</td><td>2021-08-10 17:22:44</td><td>41.77</td><td>-87.68</td><td>41.77</td><td>-87.68</td><td>member</td><td>2021-08-10</td><td>08</td><td>10</td><td>2021</td><td>Tuesday </td><td>415 secs</td></tr>\n",
       "\t<tr><th scope=row>2</th><td>EAFCCCFB0A3FC5A1</td><td>electric_bike</td><td>2021-08-10 17:23:14</td><td>2021-08-10 17:39:24</td><td>41.77</td><td>-87.68</td><td>41.77</td><td>-87.63</td><td>member</td><td>2021-08-10</td><td>08</td><td>10</td><td>2021</td><td>Tuesday </td><td>970 secs</td></tr>\n",
       "\t<tr><th scope=row>3</th><td>9EF4F46C57AD234D</td><td>electric_bike</td><td>2021-08-21 02:34:23</td><td>2021-08-21 02:50:36</td><td>41.95</td><td>-87.65</td><td>41.97</td><td>-87.66</td><td>member</td><td>2021-08-21</td><td>08</td><td>21</td><td>2021</td><td>Saturday</td><td>973 secs</td></tr>\n",
       "\t<tr><th scope=row>4</th><td>5834D3208BFAF1DA</td><td>electric_bike</td><td>2021-08-21 06:52:55</td><td>2021-08-21 07:08:13</td><td>41.97</td><td>-87.67</td><td>41.95</td><td>-87.65</td><td>member</td><td>2021-08-21</td><td>08</td><td>21</td><td>2021</td><td>Saturday</td><td>918 secs</td></tr>\n",
       "\t<tr><th scope=row>5</th><td>CD825CB87ED1D096</td><td>electric_bike</td><td>2021-08-19 11:55:29</td><td>2021-08-19 12:04:11</td><td>41.79</td><td>-87.60</td><td>41.77</td><td>-87.62</td><td>member</td><td>2021-08-19</td><td>08</td><td>19</td><td>2021</td><td>Thursday</td><td>522 secs</td></tr>\n",
       "\t<tr><th scope=row>6</th><td>612F12C94A964F3E</td><td>electric_bike</td><td>2021-08-19 12:41:12</td><td>2021-08-19 12:47:47</td><td>41.81</td><td>-87.61</td><td>41.80</td><td>-87.60</td><td>member</td><td>2021-08-19</td><td>08</td><td>19</td><td>2021</td><td>Thursday</td><td>395 secs</td></tr>\n",
       "</tbody>\n",
       "</table>\n"
      ],
      "text/latex": [
       "A data.frame: 6 × 15\n",
       "\\begin{tabular}{r|lllllllllllllll}\n",
       "  & ride\\_id & rideable\\_type & started\\_at & ended\\_at & start\\_lat & start\\_lng & end\\_lat & end\\_lng & member\\_casual & date & month & day & year & day\\_of\\_week & ride\\_length\\\\\n",
       "  & <chr> & <chr> & <dttm> & <dttm> & <dbl> & <dbl> & <dbl> & <dbl> & <chr> & <date> & <chr> & <chr> & <chr> & <chr> & <drtn>\\\\\n",
       "\\hline\n",
       "\t1 & 99103BB87CC6C1BB & electric\\_bike & 2021-08-10 17:15:49 & 2021-08-10 17:22:44 & 41.77 & -87.68 & 41.77 & -87.68 & member & 2021-08-10 & 08 & 10 & 2021 & Tuesday  & 415 secs\\\\\n",
       "\t2 & EAFCCCFB0A3FC5A1 & electric\\_bike & 2021-08-10 17:23:14 & 2021-08-10 17:39:24 & 41.77 & -87.68 & 41.77 & -87.63 & member & 2021-08-10 & 08 & 10 & 2021 & Tuesday  & 970 secs\\\\\n",
       "\t3 & 9EF4F46C57AD234D & electric\\_bike & 2021-08-21 02:34:23 & 2021-08-21 02:50:36 & 41.95 & -87.65 & 41.97 & -87.66 & member & 2021-08-21 & 08 & 21 & 2021 & Saturday & 973 secs\\\\\n",
       "\t4 & 5834D3208BFAF1DA & electric\\_bike & 2021-08-21 06:52:55 & 2021-08-21 07:08:13 & 41.97 & -87.67 & 41.95 & -87.65 & member & 2021-08-21 & 08 & 21 & 2021 & Saturday & 918 secs\\\\\n",
       "\t5 & CD825CB87ED1D096 & electric\\_bike & 2021-08-19 11:55:29 & 2021-08-19 12:04:11 & 41.79 & -87.60 & 41.77 & -87.62 & member & 2021-08-19 & 08 & 19 & 2021 & Thursday & 522 secs\\\\\n",
       "\t6 & 612F12C94A964F3E & electric\\_bike & 2021-08-19 12:41:12 & 2021-08-19 12:47:47 & 41.81 & -87.61 & 41.80 & -87.60 & member & 2021-08-19 & 08 & 19 & 2021 & Thursday & 395 secs\\\\\n",
       "\\end{tabular}\n"
      ],
      "text/markdown": [
       "\n",
       "A data.frame: 6 × 15\n",
       "\n",
       "| <!--/--> | ride_id &lt;chr&gt; | rideable_type &lt;chr&gt; | started_at &lt;dttm&gt; | ended_at &lt;dttm&gt; | start_lat &lt;dbl&gt; | start_lng &lt;dbl&gt; | end_lat &lt;dbl&gt; | end_lng &lt;dbl&gt; | member_casual &lt;chr&gt; | date &lt;date&gt; | month &lt;chr&gt; | day &lt;chr&gt; | year &lt;chr&gt; | day_of_week &lt;chr&gt; | ride_length &lt;drtn&gt; |\n",
       "|---|---|---|---|---|---|---|---|---|---|---|---|---|---|---|---|\n",
       "| 1 | 99103BB87CC6C1BB | electric_bike | 2021-08-10 17:15:49 | 2021-08-10 17:22:44 | 41.77 | -87.68 | 41.77 | -87.68 | member | 2021-08-10 | 08 | 10 | 2021 | Tuesday  | 415 secs |\n",
       "| 2 | EAFCCCFB0A3FC5A1 | electric_bike | 2021-08-10 17:23:14 | 2021-08-10 17:39:24 | 41.77 | -87.68 | 41.77 | -87.63 | member | 2021-08-10 | 08 | 10 | 2021 | Tuesday  | 970 secs |\n",
       "| 3 | 9EF4F46C57AD234D | electric_bike | 2021-08-21 02:34:23 | 2021-08-21 02:50:36 | 41.95 | -87.65 | 41.97 | -87.66 | member | 2021-08-21 | 08 | 21 | 2021 | Saturday | 973 secs |\n",
       "| 4 | 5834D3208BFAF1DA | electric_bike | 2021-08-21 06:52:55 | 2021-08-21 07:08:13 | 41.97 | -87.67 | 41.95 | -87.65 | member | 2021-08-21 | 08 | 21 | 2021 | Saturday | 918 secs |\n",
       "| 5 | CD825CB87ED1D096 | electric_bike | 2021-08-19 11:55:29 | 2021-08-19 12:04:11 | 41.79 | -87.60 | 41.77 | -87.62 | member | 2021-08-19 | 08 | 19 | 2021 | Thursday | 522 secs |\n",
       "| 6 | 612F12C94A964F3E | electric_bike | 2021-08-19 12:41:12 | 2021-08-19 12:47:47 | 41.81 | -87.61 | 41.80 | -87.60 | member | 2021-08-19 | 08 | 19 | 2021 | Thursday | 395 secs |\n",
       "\n"
      ],
      "text/plain": [
       "  ride_id          rideable_type started_at          ended_at           \n",
       "1 99103BB87CC6C1BB electric_bike 2021-08-10 17:15:49 2021-08-10 17:22:44\n",
       "2 EAFCCCFB0A3FC5A1 electric_bike 2021-08-10 17:23:14 2021-08-10 17:39:24\n",
       "3 9EF4F46C57AD234D electric_bike 2021-08-21 02:34:23 2021-08-21 02:50:36\n",
       "4 5834D3208BFAF1DA electric_bike 2021-08-21 06:52:55 2021-08-21 07:08:13\n",
       "5 CD825CB87ED1D096 electric_bike 2021-08-19 11:55:29 2021-08-19 12:04:11\n",
       "6 612F12C94A964F3E electric_bike 2021-08-19 12:41:12 2021-08-19 12:47:47\n",
       "  start_lat start_lng end_lat end_lng member_casual date       month day year\n",
       "1 41.77     -87.68    41.77   -87.68  member        2021-08-10 08    10  2021\n",
       "2 41.77     -87.68    41.77   -87.63  member        2021-08-10 08    10  2021\n",
       "3 41.95     -87.65    41.97   -87.66  member        2021-08-21 08    21  2021\n",
       "4 41.97     -87.67    41.95   -87.65  member        2021-08-21 08    21  2021\n",
       "5 41.79     -87.60    41.77   -87.62  member        2021-08-19 08    19  2021\n",
       "6 41.81     -87.61    41.80   -87.60  member        2021-08-19 08    19  2021\n",
       "  day_of_week ride_length\n",
       "1 Tuesday     415 secs   \n",
       "2 Tuesday     970 secs   \n",
       "3 Saturday    973 secs   \n",
       "4 Saturday    918 secs   \n",
       "5 Thursday    522 secs   \n",
       "6 Thursday    395 secs   "
      ]
     },
     "metadata": {},
     "output_type": "display_data"
    },
    {
     "name": "stdout",
     "output_type": "stream",
     "text": [
      "'data.frame':\t5895724 obs. of  15 variables:\n",
      " $ ride_id      : chr  \"99103BB87CC6C1BB\" \"EAFCCCFB0A3FC5A1\" \"9EF4F46C57AD234D\" \"5834D3208BFAF1DA\" ...\n",
      " $ rideable_type: chr  \"electric_bike\" \"electric_bike\" \"electric_bike\" \"electric_bike\" ...\n",
      " $ started_at   : POSIXct, format: \"2021-08-10 17:15:49\" \"2021-08-10 17:23:14\" ...\n",
      " $ ended_at     : POSIXct, format: \"2021-08-10 17:22:44\" \"2021-08-10 17:39:24\" ...\n",
      " $ start_lat    : num  41.8 41.8 42 42 41.8 ...\n",
      " $ start_lng    : num  -87.7 -87.7 -87.7 -87.7 -87.6 ...\n",
      " $ end_lat      : num  41.8 41.8 42 42 41.8 ...\n",
      " $ end_lng      : num  -87.7 -87.6 -87.7 -87.7 -87.6 ...\n",
      " $ member_casual: chr  \"member\" \"member\" \"member\" \"member\" ...\n",
      " $ date         : Date, format: \"2021-08-10\" \"2021-08-10\" ...\n",
      " $ month        : chr  \"08\" \"08\" \"08\" \"08\" ...\n",
      " $ day          : chr  \"10\" \"10\" \"21\" \"21\" ...\n",
      " $ year         : chr  \"2021\" \"2021\" \"2021\" \"2021\" ...\n",
      " $ day_of_week  : chr  \"Tuesday\" \"Tuesday\" \"Saturday\" \"Saturday\" ...\n",
      " $ ride_length  : 'difftime' num  415 970 973 918 ...\n",
      "  ..- attr(*, \"units\")= chr \"secs\"\n"
     ]
    },
    {
     "data": {
      "text/plain": [
       "   ride_id          rideable_type        started_at                 \n",
       " Length:5895724     Length:5895724     Min.   :2021-08-01 00:00:04  \n",
       " Class :character   Class :character   1st Qu.:2021-09-27 12:28:09  \n",
       " Mode  :character   Mode  :character   Median :2022-02-14 11:53:23  \n",
       "                                       Mean   :2022-01-31 21:19:16  \n",
       "                                       3rd Qu.:2022-06-05 15:18:32  \n",
       "                                       Max.   :2022-07-31 23:59:58  \n",
       "    ended_at                     start_lat       start_lng         end_lat     \n",
       " Min.   :2021-08-01 00:03:11   Min.   :41.64   Min.   :-87.84   Min.   :41.39  \n",
       " 1st Qu.:2021-09-27 12:47:44   1st Qu.:41.88   1st Qu.:-87.66   1st Qu.:41.88  \n",
       " Median :2022-02-14 12:06:38   Median :41.90   Median :-87.64   Median :41.90  \n",
       " Mean   :2022-01-31 21:37:05   Mean   :41.90   Mean   :-87.65   Mean   :41.90  \n",
       " 3rd Qu.:2022-06-05 15:43:31   3rd Qu.:41.93   3rd Qu.:-87.63   3rd Qu.:41.93  \n",
       " Max.   :2022-08-01 13:26:03   Max.   :45.64   Max.   :-73.80   Max.   :42.37  \n",
       "    end_lng       member_casual           date               month          \n",
       " Min.   :-88.97   Length:5895724     Min.   :2021-08-01   Length:5895724    \n",
       " 1st Qu.:-87.66   Class :character   1st Qu.:2021-09-27   Class :character  \n",
       " Median :-87.64   Mode  :character   Median :2022-02-14   Mode  :character  \n",
       " Mean   :-87.65                      Mean   :2022-01-31                     \n",
       " 3rd Qu.:-87.63                      3rd Qu.:2022-06-05                     \n",
       " Max.   :-87.50                      Max.   :2022-07-31                     \n",
       "     day                year           day_of_week        ride_length      \n",
       " Length:5895724     Length:5895724     Length:5895724     Length:5895724   \n",
       " Class :character   Class :character   Class :character   Class :difftime  \n",
       " Mode  :character   Mode  :character   Mode  :character   Mode  :numeric   \n",
       "                                                                           \n",
       "                                                                           \n",
       "                                                                           "
      ]
     },
     "metadata": {},
     "output_type": "display_data"
    },
    {
     "data": {
      "text/html": [
       "TRUE"
      ],
      "text/latex": [
       "TRUE"
      ],
      "text/markdown": [
       "TRUE"
      ],
      "text/plain": [
       "[1] TRUE"
      ]
     },
     "metadata": {},
     "output_type": "display_data"
    },
    {
     "data": {
      "text/html": [
       "<table class=\"dataframe\">\n",
       "<caption>A data.frame: 2 × 1</caption>\n",
       "<thead>\n",
       "\t<tr><th></th><th scope=col>member_casual</th></tr>\n",
       "\t<tr><th></th><th scope=col>&lt;chr&gt;</th></tr>\n",
       "</thead>\n",
       "<tbody>\n",
       "\t<tr><th scope=row>1</th><td>member</td></tr>\n",
       "\t<tr><th scope=row>71</th><td>casual</td></tr>\n",
       "</tbody>\n",
       "</table>\n"
      ],
      "text/latex": [
       "A data.frame: 2 × 1\n",
       "\\begin{tabular}{r|l}\n",
       "  & member\\_casual\\\\\n",
       "  & <chr>\\\\\n",
       "\\hline\n",
       "\t1 & member\\\\\n",
       "\t71 & casual\\\\\n",
       "\\end{tabular}\n"
      ],
      "text/markdown": [
       "\n",
       "A data.frame: 2 × 1\n",
       "\n",
       "| <!--/--> | member_casual &lt;chr&gt; |\n",
       "|---|---|\n",
       "| 1 | member |\n",
       "| 71 | casual |\n",
       "\n"
      ],
      "text/plain": [
       "   member_casual\n",
       "1  member       \n",
       "71 casual       "
      ]
     },
     "metadata": {},
     "output_type": "display_data"
    },
    {
     "data": {
      "text/html": [
       "<table class=\"dataframe\">\n",
       "<caption>A data.frame: 3 × 1</caption>\n",
       "<thead>\n",
       "\t<tr><th></th><th scope=col>rideable_type</th></tr>\n",
       "\t<tr><th></th><th scope=col>&lt;chr&gt;</th></tr>\n",
       "</thead>\n",
       "<tbody>\n",
       "\t<tr><th scope=row>1</th><td>electric_bike</td></tr>\n",
       "\t<tr><th scope=row>31</th><td>classic_bike </td></tr>\n",
       "\t<tr><th scope=row>8168</th><td>docked_bike  </td></tr>\n",
       "</tbody>\n",
       "</table>\n"
      ],
      "text/latex": [
       "A data.frame: 3 × 1\n",
       "\\begin{tabular}{r|l}\n",
       "  & rideable\\_type\\\\\n",
       "  & <chr>\\\\\n",
       "\\hline\n",
       "\t1 & electric\\_bike\\\\\n",
       "\t31 & classic\\_bike \\\\\n",
       "\t8168 & docked\\_bike  \\\\\n",
       "\\end{tabular}\n"
      ],
      "text/markdown": [
       "\n",
       "A data.frame: 3 × 1\n",
       "\n",
       "| <!--/--> | rideable_type &lt;chr&gt; |\n",
       "|---|---|\n",
       "| 1 | electric_bike |\n",
       "| 31 | classic_bike  |\n",
       "| 8168 | docked_bike   |\n",
       "\n"
      ],
      "text/plain": [
       "     rideable_type\n",
       "1    electric_bike\n",
       "31   classic_bike \n",
       "8168 docked_bike  "
      ]
     },
     "metadata": {},
     "output_type": "display_data"
    }
   ],
   "source": [
    "# checking the dataframe for negative entry in ride_length column\n",
    "nrow(total_trips2[(total_trips2$ride_length<0),])\n",
    "\n",
    "# creating new table (new_total_trips2) without the  negative values and inspect the new table that has been created\n",
    "\n",
    "new_total_trips2 <- total_trips2[!(total_trips2$ride_length<0),]\n",
    "dim(new_total_trips2)\n",
    "colnames(new_total_trips2)\n",
    "nrow(new_total_trips2)\n",
    "head(new_total_trips2)\n",
    "str(new_total_trips2)\n",
    "summary(new_total_trips2)\n",
    "\n",
    "# convert ride_length to numeric \n",
    "new_total_trips2$ride_length <- as.numeric(as.character(new_total_trips2$ride_length))\n",
    "\n",
    "# Check if ride_length is numeric\n",
    "is.numeric(new_total_trips2$ride_length)\n",
    "\n",
    "# check columns casual_members and rideable_type\n",
    "\n",
    "unique(new_total_trips2[\"member_casual\"])\n",
    "unique(new_total_trips2[\"rideable_type\"])\n"
   ]
  },
  {
   "cell_type": "markdown",
   "id": "e7fbeb27",
   "metadata": {
    "papermill": {
     "duration": 0.011243,
     "end_time": "2022-08-21T15:20:42.461728",
     "exception": false,
     "start_time": "2022-08-21T15:20:42.450485",
     "status": "completed"
    },
    "tags": []
   },
   "source": [
    "## ANALYZE\n",
    "\n",
    "The data has been cleaned and ready to perform analysis on it. In this phase i will be organizing, aggregating and performing calsulations to identify the trends and relationships in the data."
   ]
  },
  {
   "cell_type": "code",
   "execution_count": 7,
   "id": "6ab77b0f",
   "metadata": {
    "execution": {
     "iopub.execute_input": "2022-08-21T15:20:42.496476Z",
     "iopub.status.busy": "2022-08-21T15:20:42.494772Z",
     "iopub.status.idle": "2022-08-21T15:20:43.176406Z",
     "shell.execute_reply": "2022-08-21T15:20:43.174628Z"
    },
    "papermill": {
     "duration": 0.706081,
     "end_time": "2022-08-21T15:20:43.178856",
     "exception": false,
     "start_time": "2022-08-21T15:20:42.472775",
     "status": "completed"
    },
    "tags": []
   },
   "outputs": [
    {
     "data": {
      "text/plain": [
       "   Min. 1st Qu.  Median    Mean 3rd Qu.    Max. \n",
       "      0     370     657    1068    1186 2497750 "
      ]
     },
     "metadata": {},
     "output_type": "display_data"
    },
    {
     "data": {
      "text/html": [
       "1068.42402103626"
      ],
      "text/latex": [
       "1068.42402103626"
      ],
      "text/markdown": [
       "1068.42402103626"
      ],
      "text/plain": [
       "[1] 1068.424"
      ]
     },
     "metadata": {},
     "output_type": "display_data"
    },
    {
     "data": {
      "text/html": [
       "657"
      ],
      "text/latex": [
       "657"
      ],
      "text/markdown": [
       "657"
      ],
      "text/plain": [
       "[1] 657"
      ]
     },
     "metadata": {},
     "output_type": "display_data"
    },
    {
     "data": {
      "text/html": [
       "2497750"
      ],
      "text/latex": [
       "2497750"
      ],
      "text/markdown": [
       "2497750"
      ],
      "text/plain": [
       "[1] 2497750"
      ]
     },
     "metadata": {},
     "output_type": "display_data"
    },
    {
     "data": {
      "text/html": [
       "0"
      ],
      "text/latex": [
       "0"
      ],
      "text/markdown": [
       "0"
      ],
      "text/plain": [
       "[1] 0"
      ]
     },
     "metadata": {},
     "output_type": "display_data"
    },
    {
     "data": {
      "text/html": [
       "'numeric'"
      ],
      "text/latex": [
       "'numeric'"
      ],
      "text/markdown": [
       "'numeric'"
      ],
      "text/plain": [
       "[1] \"numeric\""
      ]
     },
     "metadata": {},
     "output_type": "display_data"
    }
   ],
   "source": [
    "# compare the number to members vs casual riders\n",
    "view(new_total_trips2$member_casual)\n",
    "summary(new_total_trips2$ride_length)\n",
    "\n",
    "# discriptive analysis\n",
    "# decriptive analysis on ride_length (seconds)\n",
    "\n",
    "mean(new_total_trips2$ride_length) \n",
    "median(new_total_trips2$ride_length) \n",
    "max(new_total_trips2$ride_length)\n",
    "min(new_total_trips2$ride_length)\n",
    "mode(new_total_trips2$ride_length)"
   ]
  },
  {
   "cell_type": "code",
   "execution_count": 8,
   "id": "ce0db099",
   "metadata": {
    "execution": {
     "iopub.execute_input": "2022-08-21T15:20:43.206985Z",
     "iopub.status.busy": "2022-08-21T15:20:43.205468Z",
     "iopub.status.idle": "2022-08-21T15:20:53.487469Z",
     "shell.execute_reply": "2022-08-21T15:20:53.485197Z"
    },
    "papermill": {
     "duration": 10.299143,
     "end_time": "2022-08-21T15:20:53.490770",
     "exception": false,
     "start_time": "2022-08-21T15:20:43.191627",
     "status": "completed"
    },
    "tags": []
   },
   "outputs": [
    {
     "data": {
      "text/html": [
       "<table class=\"dataframe\">\n",
       "<caption>A data.frame: 2 × 2</caption>\n",
       "<thead>\n",
       "\t<tr><th scope=col>new_total_trips2$member_casual</th><th scope=col>new_total_trips2$ride_length</th></tr>\n",
       "\t<tr><th scope=col>&lt;chr&gt;</th><th scope=col>&lt;dbl&gt;</th></tr>\n",
       "</thead>\n",
       "<tbody>\n",
       "\t<tr><td>casual</td><td>1481.9572</td></tr>\n",
       "\t<tr><td>member</td><td> 760.2812</td></tr>\n",
       "</tbody>\n",
       "</table>\n"
      ],
      "text/latex": [
       "A data.frame: 2 × 2\n",
       "\\begin{tabular}{ll}\n",
       " new\\_total\\_trips2\\$member\\_casual & new\\_total\\_trips2\\$ride\\_length\\\\\n",
       " <chr> & <dbl>\\\\\n",
       "\\hline\n",
       "\t casual & 1481.9572\\\\\n",
       "\t member &  760.2812\\\\\n",
       "\\end{tabular}\n"
      ],
      "text/markdown": [
       "\n",
       "A data.frame: 2 × 2\n",
       "\n",
       "| new_total_trips2$member_casual &lt;chr&gt; | new_total_trips2$ride_length &lt;dbl&gt; |\n",
       "|---|---|\n",
       "| casual | 1481.9572 |\n",
       "| member |  760.2812 |\n",
       "\n"
      ],
      "text/plain": [
       "  new_total_trips2$member_casual new_total_trips2$ride_length\n",
       "1 casual                         1481.9572                   \n",
       "2 member                          760.2812                   "
      ]
     },
     "metadata": {},
     "output_type": "display_data"
    },
    {
     "data": {
      "text/html": [
       "<table class=\"dataframe\">\n",
       "<caption>A data.frame: 2 × 2</caption>\n",
       "<thead>\n",
       "\t<tr><th scope=col>new_total_trips2$member_casual</th><th scope=col>new_total_trips2$ride_length</th></tr>\n",
       "\t<tr><th scope=col>&lt;chr&gt;</th><th scope=col>&lt;dbl&gt;</th></tr>\n",
       "</thead>\n",
       "<tbody>\n",
       "\t<tr><td>casual</td><td>2497750</td></tr>\n",
       "\t<tr><td>member</td><td>  89996</td></tr>\n",
       "</tbody>\n",
       "</table>\n"
      ],
      "text/latex": [
       "A data.frame: 2 × 2\n",
       "\\begin{tabular}{ll}\n",
       " new\\_total\\_trips2\\$member\\_casual & new\\_total\\_trips2\\$ride\\_length\\\\\n",
       " <chr> & <dbl>\\\\\n",
       "\\hline\n",
       "\t casual & 2497750\\\\\n",
       "\t member &   89996\\\\\n",
       "\\end{tabular}\n"
      ],
      "text/markdown": [
       "\n",
       "A data.frame: 2 × 2\n",
       "\n",
       "| new_total_trips2$member_casual &lt;chr&gt; | new_total_trips2$ride_length &lt;dbl&gt; |\n",
       "|---|---|\n",
       "| casual | 2497750 |\n",
       "| member |   89996 |\n",
       "\n"
      ],
      "text/plain": [
       "  new_total_trips2$member_casual new_total_trips2$ride_length\n",
       "1 casual                         2497750                     \n",
       "2 member                           89996                     "
      ]
     },
     "metadata": {},
     "output_type": "display_data"
    }
   ],
   "source": [
    "# calculating the mean and max of ride lenght\n",
    "\n",
    "aggregate(new_total_trips2$ride_length ~ new_total_trips2$member_casual, FUN = mean)\n",
    "aggregate(new_total_trips2$ride_length ~ new_total_trips2$member_casual, FUN = max)"
   ]
  },
  {
   "cell_type": "code",
   "execution_count": 9,
   "id": "69b47f86",
   "metadata": {
    "execution": {
     "iopub.execute_input": "2022-08-21T15:20:53.518768Z",
     "iopub.status.busy": "2022-08-21T15:20:53.517147Z",
     "iopub.status.idle": "2022-08-21T15:20:59.735870Z",
     "shell.execute_reply": "2022-08-21T15:20:59.733565Z"
    },
    "papermill": {
     "duration": 6.235856,
     "end_time": "2022-08-21T15:20:59.739097",
     "exception": false,
     "start_time": "2022-08-21T15:20:53.503241",
     "status": "completed"
    },
    "tags": []
   },
   "outputs": [
    {
     "data": {
      "text/html": [
       "<table class=\"dataframe\">\n",
       "<caption>A data.frame: 14 × 3</caption>\n",
       "<thead>\n",
       "\t<tr><th scope=col>new_total_trips2$member_casual</th><th scope=col>new_total_trips2$day_of_week</th><th scope=col>new_total_trips2$ride_length</th></tr>\n",
       "\t<tr><th scope=col>&lt;chr&gt;</th><th scope=col>&lt;ord&gt;</th><th scope=col>&lt;dbl&gt;</th></tr>\n",
       "</thead>\n",
       "<tbody>\n",
       "\t<tr><td>casual</td><td>Sunday   </td><td>1719.1204</td></tr>\n",
       "\t<tr><td>member</td><td>Sunday   </td><td> 856.6393</td></tr>\n",
       "\t<tr><td>casual</td><td>Monday   </td><td>1531.2856</td></tr>\n",
       "\t<tr><td>member</td><td>Monday   </td><td> 738.6934</td></tr>\n",
       "\t<tr><td>casual</td><td>Tuesday  </td><td>1291.0836</td></tr>\n",
       "\t<tr><td>member</td><td>Tuesday  </td><td> 713.8310</td></tr>\n",
       "\t<tr><td>casual</td><td>Wednesday</td><td>1271.7207</td></tr>\n",
       "\t<tr><td>member</td><td>Wednesday</td><td> 719.0194</td></tr>\n",
       "\t<tr><td>casual</td><td>Thursday </td><td>1308.3803</td></tr>\n",
       "\t<tr><td>member</td><td>Thursday </td><td> 728.2798</td></tr>\n",
       "\t<tr><td>casual</td><td>Friday   </td><td>1373.0453</td></tr>\n",
       "\t<tr><td>member</td><td>Friday   </td><td> 741.7726</td></tr>\n",
       "\t<tr><td>casual</td><td>Saturday </td><td>1627.3740</td></tr>\n",
       "\t<tr><td>member</td><td>Saturday </td><td> 851.0638</td></tr>\n",
       "</tbody>\n",
       "</table>\n"
      ],
      "text/latex": [
       "A data.frame: 14 × 3\n",
       "\\begin{tabular}{lll}\n",
       " new\\_total\\_trips2\\$member\\_casual & new\\_total\\_trips2\\$day\\_of\\_week & new\\_total\\_trips2\\$ride\\_length\\\\\n",
       " <chr> & <ord> & <dbl>\\\\\n",
       "\\hline\n",
       "\t casual & Sunday    & 1719.1204\\\\\n",
       "\t member & Sunday    &  856.6393\\\\\n",
       "\t casual & Monday    & 1531.2856\\\\\n",
       "\t member & Monday    &  738.6934\\\\\n",
       "\t casual & Tuesday   & 1291.0836\\\\\n",
       "\t member & Tuesday   &  713.8310\\\\\n",
       "\t casual & Wednesday & 1271.7207\\\\\n",
       "\t member & Wednesday &  719.0194\\\\\n",
       "\t casual & Thursday  & 1308.3803\\\\\n",
       "\t member & Thursday  &  728.2798\\\\\n",
       "\t casual & Friday    & 1373.0453\\\\\n",
       "\t member & Friday    &  741.7726\\\\\n",
       "\t casual & Saturday  & 1627.3740\\\\\n",
       "\t member & Saturday  &  851.0638\\\\\n",
       "\\end{tabular}\n"
      ],
      "text/markdown": [
       "\n",
       "A data.frame: 14 × 3\n",
       "\n",
       "| new_total_trips2$member_casual &lt;chr&gt; | new_total_trips2$day_of_week &lt;ord&gt; | new_total_trips2$ride_length &lt;dbl&gt; |\n",
       "|---|---|---|\n",
       "| casual | Sunday    | 1719.1204 |\n",
       "| member | Sunday    |  856.6393 |\n",
       "| casual | Monday    | 1531.2856 |\n",
       "| member | Monday    |  738.6934 |\n",
       "| casual | Tuesday   | 1291.0836 |\n",
       "| member | Tuesday   |  713.8310 |\n",
       "| casual | Wednesday | 1271.7207 |\n",
       "| member | Wednesday |  719.0194 |\n",
       "| casual | Thursday  | 1308.3803 |\n",
       "| member | Thursday  |  728.2798 |\n",
       "| casual | Friday    | 1373.0453 |\n",
       "| member | Friday    |  741.7726 |\n",
       "| casual | Saturday  | 1627.3740 |\n",
       "| member | Saturday  |  851.0638 |\n",
       "\n"
      ],
      "text/plain": [
       "   new_total_trips2$member_casual new_total_trips2$day_of_week\n",
       "1  casual                         Sunday                      \n",
       "2  member                         Sunday                      \n",
       "3  casual                         Monday                      \n",
       "4  member                         Monday                      \n",
       "5  casual                         Tuesday                     \n",
       "6  member                         Tuesday                     \n",
       "7  casual                         Wednesday                   \n",
       "8  member                         Wednesday                   \n",
       "9  casual                         Thursday                    \n",
       "10 member                         Thursday                    \n",
       "11 casual                         Friday                      \n",
       "12 member                         Friday                      \n",
       "13 casual                         Saturday                    \n",
       "14 member                         Saturday                    \n",
       "   new_total_trips2$ride_length\n",
       "1  1719.1204                   \n",
       "2   856.6393                   \n",
       "3  1531.2856                   \n",
       "4   738.6934                   \n",
       "5  1291.0836                   \n",
       "6   713.8310                   \n",
       "7  1271.7207                   \n",
       "8   719.0194                   \n",
       "9  1308.3803                   \n",
       "10  728.2798                   \n",
       "11 1373.0453                   \n",
       "12  741.7726                   \n",
       "13 1627.3740                   \n",
       "14  851.0638                   "
      ]
     },
     "metadata": {},
     "output_type": "display_data"
    },
    {
     "name": "stderr",
     "output_type": "stream",
     "text": [
      "\u001b[1m\u001b[22m`summarise()` has grouped output by 'member_casual'. You can override using the\n",
      "`.groups` argument.\n"
     ]
    },
    {
     "data": {
      "text/html": [
       "<table class=\"dataframe\">\n",
       "<caption>A grouped_df: 14 × 4</caption>\n",
       "<thead>\n",
       "\t<tr><th scope=col>member_casual</th><th scope=col>day_of_week</th><th scope=col>number_of_ride</th><th scope=col>average_duration</th></tr>\n",
       "\t<tr><th scope=col>&lt;chr&gt;</th><th scope=col>&lt;ord&gt;</th><th scope=col>&lt;int&gt;</th><th scope=col>&lt;dbl&gt;</th></tr>\n",
       "</thead>\n",
       "<tbody>\n",
       "\t<tr><td>casual</td><td>Sunday   </td><td>474596</td><td>1719.1204</td></tr>\n",
       "\t<tr><td>casual</td><td>Monday   </td><td>299079</td><td>1531.2856</td></tr>\n",
       "\t<tr><td>casual</td><td>Tuesday  </td><td>273307</td><td>1291.0836</td></tr>\n",
       "\t<tr><td>casual</td><td>Wednesday</td><td>281327</td><td>1271.7207</td></tr>\n",
       "\t<tr><td>casual</td><td>Thursday </td><td>315539</td><td>1308.3803</td></tr>\n",
       "\t<tr><td>casual</td><td>Friday   </td><td>346999</td><td>1373.0453</td></tr>\n",
       "\t<tr><td>casual</td><td>Saturday </td><td>526522</td><td>1627.3740</td></tr>\n",
       "\t<tr><td>member</td><td>Sunday   </td><td>417823</td><td> 856.6393</td></tr>\n",
       "\t<tr><td>member</td><td>Monday   </td><td>472281</td><td> 738.6934</td></tr>\n",
       "\t<tr><td>member</td><td>Tuesday  </td><td>523262</td><td> 713.8310</td></tr>\n",
       "\t<tr><td>member</td><td>Wednesday</td><td>522524</td><td> 719.0194</td></tr>\n",
       "\t<tr><td>member</td><td>Thursday </td><td>522537</td><td> 728.2798</td></tr>\n",
       "\t<tr><td>member</td><td>Friday   </td><td>466558</td><td> 741.7726</td></tr>\n",
       "\t<tr><td>member</td><td>Saturday </td><td>453370</td><td> 851.0638</td></tr>\n",
       "</tbody>\n",
       "</table>\n"
      ],
      "text/latex": [
       "A grouped\\_df: 14 × 4\n",
       "\\begin{tabular}{llll}\n",
       " member\\_casual & day\\_of\\_week & number\\_of\\_ride & average\\_duration\\\\\n",
       " <chr> & <ord> & <int> & <dbl>\\\\\n",
       "\\hline\n",
       "\t casual & Sunday    & 474596 & 1719.1204\\\\\n",
       "\t casual & Monday    & 299079 & 1531.2856\\\\\n",
       "\t casual & Tuesday   & 273307 & 1291.0836\\\\\n",
       "\t casual & Wednesday & 281327 & 1271.7207\\\\\n",
       "\t casual & Thursday  & 315539 & 1308.3803\\\\\n",
       "\t casual & Friday    & 346999 & 1373.0453\\\\\n",
       "\t casual & Saturday  & 526522 & 1627.3740\\\\\n",
       "\t member & Sunday    & 417823 &  856.6393\\\\\n",
       "\t member & Monday    & 472281 &  738.6934\\\\\n",
       "\t member & Tuesday   & 523262 &  713.8310\\\\\n",
       "\t member & Wednesday & 522524 &  719.0194\\\\\n",
       "\t member & Thursday  & 522537 &  728.2798\\\\\n",
       "\t member & Friday    & 466558 &  741.7726\\\\\n",
       "\t member & Saturday  & 453370 &  851.0638\\\\\n",
       "\\end{tabular}\n"
      ],
      "text/markdown": [
       "\n",
       "A grouped_df: 14 × 4\n",
       "\n",
       "| member_casual &lt;chr&gt; | day_of_week &lt;ord&gt; | number_of_ride &lt;int&gt; | average_duration &lt;dbl&gt; |\n",
       "|---|---|---|---|\n",
       "| casual | Sunday    | 474596 | 1719.1204 |\n",
       "| casual | Monday    | 299079 | 1531.2856 |\n",
       "| casual | Tuesday   | 273307 | 1291.0836 |\n",
       "| casual | Wednesday | 281327 | 1271.7207 |\n",
       "| casual | Thursday  | 315539 | 1308.3803 |\n",
       "| casual | Friday    | 346999 | 1373.0453 |\n",
       "| casual | Saturday  | 526522 | 1627.3740 |\n",
       "| member | Sunday    | 417823 |  856.6393 |\n",
       "| member | Monday    | 472281 |  738.6934 |\n",
       "| member | Tuesday   | 523262 |  713.8310 |\n",
       "| member | Wednesday | 522524 |  719.0194 |\n",
       "| member | Thursday  | 522537 |  728.2798 |\n",
       "| member | Friday    | 466558 |  741.7726 |\n",
       "| member | Saturday  | 453370 |  851.0638 |\n",
       "\n"
      ],
      "text/plain": [
       "   member_casual day_of_week number_of_ride average_duration\n",
       "1  casual        Sunday      474596         1719.1204       \n",
       "2  casual        Monday      299079         1531.2856       \n",
       "3  casual        Tuesday     273307         1291.0836       \n",
       "4  casual        Wednesday   281327         1271.7207       \n",
       "5  casual        Thursday    315539         1308.3803       \n",
       "6  casual        Friday      346999         1373.0453       \n",
       "7  casual        Saturday    526522         1627.3740       \n",
       "8  member        Sunday      417823          856.6393       \n",
       "9  member        Monday      472281          738.6934       \n",
       "10 member        Tuesday     523262          713.8310       \n",
       "11 member        Wednesday   522524          719.0194       \n",
       "12 member        Thursday    522537          728.2798       \n",
       "13 member        Friday      466558          741.7726       \n",
       "14 member        Saturday    453370          851.0638       "
      ]
     },
     "metadata": {},
     "output_type": "display_data"
    }
   ],
   "source": [
    "# compare average riding time per day by membership(casual vs member)\n",
    "# first reorganize day_of_week accordingly\n",
    "\n",
    "new_total_trips2$day_of_week <- ordered(new_total_trips2$day_of_week, \n",
    "levels=c(\"Sunday\", \"Monday\", \"Tuesday\", \"Wednesday\",\"Thursday\", \"Friday\", \"Saturday\"))\n",
    "\n",
    "# after that i compare average riding time per day\n",
    "\n",
    "aggregate(new_total_trips2$ride_length ~ new_total_trips2$member_casual + \n",
    "            new_total_trips2$day_of_week, FUN = mean)\n",
    "\n",
    "# grouping total trips by members_casual and day_of_week\n",
    "\n",
    "new_total_trips2%>%\n",
    "  group_by(member_casual, day_of_week)%>%\n",
    "  summarize(number_of_ride = n(), average_duration = mean(ride_length))%>%\n",
    "  arrange(member_casual, day_of_week)\n"
   ]
  },
  {
   "cell_type": "markdown",
   "id": "0dc9f9fc",
   "metadata": {
    "papermill": {
     "duration": 0.01219,
     "end_time": "2022-08-21T15:20:59.763406",
     "exception": false,
     "start_time": "2022-08-21T15:20:59.751216",
     "status": "completed"
    },
    "tags": []
   },
   "source": [
    "## SHARE\n",
    "\n",
    "This is the phase to create data visualization and share my findings with the help of ggplot2 for data visualization."
   ]
  },
  {
   "cell_type": "code",
   "execution_count": 10,
   "id": "7ff73db9",
   "metadata": {
    "execution": {
     "iopub.execute_input": "2022-08-21T15:20:59.790929Z",
     "iopub.status.busy": "2022-08-21T15:20:59.789355Z",
     "iopub.status.idle": "2022-08-21T15:21:07.556527Z",
     "shell.execute_reply": "2022-08-21T15:21:07.553948Z"
    },
    "papermill": {
     "duration": 7.784462,
     "end_time": "2022-08-21T15:21:07.559928",
     "exception": false,
     "start_time": "2022-08-21T15:20:59.775466",
     "status": "completed"
    },
    "tags": []
   },
   "outputs": [
    {
     "data": {
      "image/png": "[encoded data removed]"
     },
     "metadata": {
      "image/png": {
       "height": 420,
       "width": 420
      }
     },
     "output_type": "display_data"
    }
   ],
   "source": [
    "# number of members vs casual riders\n",
    "\n",
    "ggplot(new_total_trips2, aes(member_casual, fill = member_casual)) + geom_bar() + scale_fill_manual( values = c(\"red\", \"blue\"))+\n",
    "  labs(title = \"Fig1: Type of Riders (casual vs member)\", x = \"Rider Type\")\n"
   ]
  },
  {
   "cell_type": "code",
   "execution_count": 11,
   "id": "fc4db9f6",
   "metadata": {
    "execution": {
     "iopub.execute_input": "2022-08-21T15:21:07.588747Z",
     "iopub.status.busy": "2022-08-21T15:21:07.587185Z",
     "iopub.status.idle": "2022-08-21T15:21:08.315575Z",
     "shell.execute_reply": "2022-08-21T15:21:08.313641Z"
    },
    "papermill": {
     "duration": 0.74571,
     "end_time": "2022-08-21T15:21:08.318441",
     "exception": false,
     "start_time": "2022-08-21T15:21:07.572731",
     "status": "completed"
    },
    "tags": []
   },
   "outputs": [
    {
     "name": "stderr",
     "output_type": "stream",
     "text": [
      "\u001b[1m\u001b[22m`summarise()` has grouped output by 'member_casual'. You can override using the\n",
      "`.groups` argument.\n"
     ]
    },
    {
     "data": {
      "image/png": "[encoded data removed]"
     },
     "metadata": {
      "image/png": {
       "height": 420,
       "width": 420
      }
     },
     "output_type": "display_data"
    }
   ],
   "source": [
    "# number_of_ride by day_of_week vs member_casual\n",
    "\n",
    "new_total_trips2%>%\n",
    "  group_by(member_casual, day_of_week)%>%\n",
    "  summarize(number_of_ride = n(), average_duration = mean(ride_length))%>%\n",
    "  arrange(member_casual, day_of_week)%>%\n",
    "  ggplot(aes(x = day_of_week, y = number_of_ride, fill = member_casual)) + \n",
    "  geom_col(position = \"dodge\")+scale_fill_manual( values = c(\"red\", \"blue\"))+\n",
    "  labs(title=\"Fig2: Number of Rides by Day of Week vs Rider Type\")+\n",
    "  ylab(\"Number of Rides (1e+05 = 100,000)\") + xlab(\"Day of Week\")"
   ]
  },
  {
   "cell_type": "code",
   "execution_count": 12,
   "id": "35821f90",
   "metadata": {
    "execution": {
     "iopub.execute_input": "2022-08-21T15:21:08.350250Z",
     "iopub.status.busy": "2022-08-21T15:21:08.348604Z",
     "iopub.status.idle": "2022-08-21T15:21:10.166007Z",
     "shell.execute_reply": "2022-08-21T15:21:10.162621Z"
    },
    "papermill": {
     "duration": 1.837077,
     "end_time": "2022-08-21T15:21:10.169671",
     "exception": false,
     "start_time": "2022-08-21T15:21:08.332594",
     "status": "completed"
    },
    "tags": []
   },
   "outputs": [
    {
     "name": "stderr",
     "output_type": "stream",
     "text": [
      "\u001b[1m\u001b[22m`summarise()` has grouped output by 'member_casual'. You can override using the\n",
      "`.groups` argument.\n"
     ]
    },
    {
     "data": {
      "image/png": "[encoded data removed]"
     },
     "metadata": {
      "image/png": {
       "height": 420,
       "width": 420
      }
     },
     "output_type": "display_data"
    }
   ],
   "source": [
    "# number_of_ride by rideable_type vs member_casual\n",
    "\n",
    "new_total_trips2%>%\n",
    "  group_by(member_casual, rideable_type)%>%\n",
    "  summarize(number_of_rides = n(), average_duration = mean(ride_length))%>%\n",
    "  arrange(member_casual, rideable_type)%>%\n",
    "  ggplot(aes(x = rideable_type, y = number_of_rides, fill = member_casual)) + \n",
    "  geom_col(position = \"dodge\")+scale_fill_manual( values = c(\"red\", \"blue\"))+\n",
    "  labs(title=\"Fig3: Number of Rides by Bike Type vs Rider Type\")+\n",
    "  ylab(\"Number of Rides (1e+05 = 100,000)\") + xlab(\"Day of Week\")"
   ]
  },
  {
   "cell_type": "code",
   "execution_count": 13,
   "id": "01902682",
   "metadata": {
    "execution": {
     "iopub.execute_input": "2022-08-21T15:21:10.204644Z",
     "iopub.status.busy": "2022-08-21T15:21:10.202805Z",
     "iopub.status.idle": "2022-08-21T15:21:16.171669Z",
     "shell.execute_reply": "2022-08-21T15:21:16.169725Z"
    },
    "papermill": {
     "duration": 5.990123,
     "end_time": "2022-08-21T15:21:16.174803",
     "exception": false,
     "start_time": "2022-08-21T15:21:10.184680",
     "status": "completed"
    },
    "tags": []
   },
   "outputs": [
    {
     "name": "stderr",
     "output_type": "stream",
     "text": [
      "\u001b[1m\u001b[22m`summarise()` has grouped output by 'rideable_type'. You can override using the\n",
      "`.groups` argument.\n"
     ]
    },
    {
     "data": {
      "image/png": "[encoded data removed]"
     },
     "metadata": {
      "image/png": {
       "height": 420,
       "width": 420
      }
     },
     "output_type": "display_data"
    }
   ],
   "source": [
    "# number_of_ride by day_of_week vs rideable_type\n",
    "\n",
    "new_total_trips2 %>% \n",
    "  mutate(day_of_week = wday(started_at, label = TRUE)) %>% \n",
    "  group_by(rideable_type, day_of_week) %>% \n",
    "  summarise(number_of_rides = n()\n",
    "            ,average_duration = mean(ride_length)) %>% \n",
    "  arrange(rideable_type, day_of_week)  %>% \n",
    "  ggplot(aes(x = day_of_week, y = number_of_rides, fill = rideable_type)) +\n",
    "  geom_col(position = \"dodge\") + \n",
    "  labs(title = \"Fig4: Number of Rides by Day of week vs Bike Type\") + \n",
    "  ylab(\"Number of Rides (1e+05 = 100,000)\") + xlab(\"Day of Week\")"
   ]
  },
  {
   "cell_type": "code",
   "execution_count": 14,
   "id": "c88944e2",
   "metadata": {
    "execution": {
     "iopub.execute_input": "2022-08-21T15:21:16.210037Z",
     "iopub.status.busy": "2022-08-21T15:21:16.208432Z",
     "iopub.status.idle": "2022-08-21T15:21:16.890772Z",
     "shell.execute_reply": "2022-08-21T15:21:16.887493Z"
    },
    "papermill": {
     "duration": 0.703546,
     "end_time": "2022-08-21T15:21:16.894048",
     "exception": false,
     "start_time": "2022-08-21T15:21:16.190502",
     "status": "completed"
    },
    "tags": []
   },
   "outputs": [
    {
     "name": "stderr",
     "output_type": "stream",
     "text": [
      "\u001b[1m\u001b[22m`summarise()` has grouped output by 'member_casual'. You can override using the\n",
      "`.groups` argument.\n"
     ]
    },
    {
     "data": {
      "image/png": "[encoded data removed]"
     },
     "metadata": {
      "image/png": {
       "height": 420,
       "width": 420
      }
     },
     "output_type": "display_data"
    }
   ],
   "source": [
    "# average duration/ day_of_week vs member_casual\n",
    "\n",
    "new_total_trips2%>%\n",
    "  group_by(member_casual, day_of_week)%>%\n",
    "  summarize(number_of_rides = n(), average_duration  = mean(ride_length))%>%\n",
    "  arrange(member_casual, day_of_week)%>%\n",
    "  ggplot(aes(x = day_of_week, y = average_duration, fill = member_casual)) + \n",
    "  geom_col(position = \"dodge\")+scale_fill_manual( values = c(\"red\", \"blue\"))+\n",
    "  labs(title=\"Fig5: Average Ride Duration(in seconds) by Day of Week vs Rider Type\")+\n",
    "  ylab(\"Average Ride Duration (in seconds)\") + xlab(\"Day of Week\")"
   ]
  },
  {
   "cell_type": "code",
   "execution_count": 15,
   "id": "b6d9e236",
   "metadata": {
    "execution": {
     "iopub.execute_input": "2022-08-21T15:21:16.932835Z",
     "iopub.status.busy": "2022-08-21T15:21:16.930979Z",
     "iopub.status.idle": "2022-08-21T15:21:24.444935Z",
     "shell.execute_reply": "2022-08-21T15:21:24.441918Z"
    },
    "papermill": {
     "duration": 7.538079,
     "end_time": "2022-08-21T15:21:24.448620",
     "exception": false,
     "start_time": "2022-08-21T15:21:16.910541",
     "status": "completed"
    },
    "tags": []
   },
   "outputs": [
    {
     "name": "stderr",
     "output_type": "stream",
     "text": [
      "\u001b[1m\u001b[22m`summarise()` has grouped output by 'member_casual'. You can override using the\n",
      "`.groups` argument.\n"
     ]
    },
    {
     "data": {
      "image/png": "[encoded data removed]"
     },
     "metadata": {
      "image/png": {
       "height": 420,
       "width": 420
      }
     },
     "output_type": "display_data"
    }
   ],
   "source": [
    "# average duration by month vs member_casual\n",
    "\n",
    "new_total_trips2 %>% \n",
    "  mutate(month=month(started_at, label = TRUE)) %>%\n",
    "  group_by(member_casual, month) %>% \n",
    "  summarise(number_of_rides = n(),average_duration = mean(as.numeric(ride_length))) %>% \n",
    "  arrange(member_casual, month)  %>% \n",
    "  ggplot(aes(x = month, y = average_duration, fill = member_casual)) +\n",
    "  geom_col(position = \"dodge\") +scale_fill_manual( values = c(\"red\", \"blue\"))+ \n",
    "  labs(title=\"Fig6: Average Ride Duration(in seconds) by Month vs Rider Type\")+\n",
    "  ylab(\"Average Ride Duration (in seconds)\") + xlab(\"Month\")"
   ]
  },
  {
   "cell_type": "code",
   "execution_count": 16,
   "id": "ce1f9c0e",
   "metadata": {
    "execution": {
     "iopub.execute_input": "2022-08-21T15:21:24.487070Z",
     "iopub.status.busy": "2022-08-21T15:21:24.485209Z",
     "iopub.status.idle": "2022-08-21T15:21:36.044307Z",
     "shell.execute_reply": "2022-08-21T15:21:36.041564Z"
    },
    "papermill": {
     "duration": 11.582224,
     "end_time": "2022-08-21T15:21:36.048282",
     "exception": false,
     "start_time": "2022-08-21T15:21:24.466058",
     "status": "completed"
    },
    "tags": []
   },
   "outputs": [
    {
     "name": "stderr",
     "output_type": "stream",
     "text": [
      "\u001b[1m\u001b[22m`summarise()` has grouped output by 'member_casual'. You can override using the\n",
      "`.groups` argument.\n"
     ]
    },
    {
     "data": {
      "image/png": "[encoded data removed]"
     },
     "metadata": {
      "image/png": {
       "height": 420,
       "width": 420
      }
     },
     "output_type": "display_data"
    }
   ],
   "source": [
    "# number_of_ride by month vs member_casual\n",
    "\n",
    "new_total_trips2 %>% \n",
    "  mutate(month=month(started_at, label = TRUE)) %>%\n",
    "  group_by(member_casual, month) %>% \n",
    "  summarise(number_of_rides = n() ,average_duration = mean(ride_length)) %>% \n",
    "  arrange(member_casual, month)  %>% \n",
    "  ggplot(aes(x = month, y = number_of_rides, fill = member_casual)) +\n",
    "  geom_col(position = \"dodge\") + \n",
    "  labs(title = \"Fig7: Number of Rides by Month vs Rider Type\") + \n",
    "  ylab(\"Number of Rides (1e+05 = 100,000)\") + xlab(\"Month\")"
   ]
  },
  {
   "cell_type": "markdown",
   "id": "94b84113",
   "metadata": {
    "papermill": {
     "duration": 0.018174,
     "end_time": "2022-08-21T15:21:36.084758",
     "exception": false,
     "start_time": "2022-08-21T15:21:36.066584",
     "status": "completed"
    },
    "tags": []
   },
   "source": [
    "### SUMMARY \n",
    "\n",
    "#### The analysis shows that:\n",
    "* The company have 57.3% annual member and 42.7% of casual riders.\n",
    "*  Tuesday, Wednesday, and Thursday are days annual members take their most rides while casual riders take their most rides on Saturday and Sunday.\n",
    "* The most used bike is classic bike and electric bike. Docked by is only used by casual riders.\n",
    "* Classic bike, Electric bike and Docked bike are mostly used on weekends (saturday and sunday), but there is a slight drop of electric bike compare to thursday and friday.\n",
    "* Casual riders and annual members has their most trips time on weekends (Saturday and Sunday).\n",
    "* The most trip time for casual riders and annual members are in august.\n",
    "* Annual members takes their most rides in july while casual riders takes their most ride in august."
   ]
  },
  {
   "cell_type": "markdown",
   "id": "aec34ab4",
   "metadata": {
    "papermill": {
     "duration": 0.017433,
     "end_time": "2022-08-21T15:21:36.119522",
     "exception": false,
     "start_time": "2022-08-21T15:21:36.102089",
     "status": "completed"
    },
    "tags": []
   },
   "source": [
    "## ACT\n",
    "\n",
    "Looking at the visual representation and to achieve the business task considering Fig2 which is the number of rides by days of the week vs rider type, I noticed that annual members are likely to use bikes to work or schools cause the number of rides are high on Mondays through Fridays. Also, casual members are likely to use bikes for leisure activities cause the number of rides is high on Saturdays and Sundays.\n",
    "\n",
    "Casual riders uses classic bike, electric bike and docked bike but annual members uses classic bike and electric bike only.\n",
    "\n",
    "### My recommendations are:\n",
    "* There should be dicount for weekday riders cause shorter trip occur during weekdays.\n",
    "* Promotions should be done on weekends and should occur during summer.\n",
    "* Availability of docked bikes will increase the usage of docked bikes.\n",
    "\n",
    "### Further Analysis\n",
    "I suggest that further analysis be conducted to analyze:\n",
    "\n",
    "* Why annual members don't use docked bikes which may be caused my technical failure or unavailability of dock stations in their commute areas.\n",
    "* The relationship between the riders to know riders with disabilities and riders who can't use standard two-wheeled bike"
   ]
  }
 ],
 "metadata": {
  "kernelspec": {
   "display_name": "R",
   "language": "R",
   "name": "ir"
  },
  "language_info": {
   "codemirror_mode": "r",
   "file_extension": ".r",
   "mimetype": "text/x-r-source",
   "name": "R",
   "pygments_lexer": "r",
   "version": "4.0.5"
  },
  "papermill": {
   "default_parameters": {},
   "duration": 271.525178,
   "end_time": "2022-08-21T15:21:36.560897",
   "environment_variables": {},
   "exception": null,
   "input_path": "__notebook__.ipynb",
   "output_path": "__notebook__.ipynb",
   "parameters": {},
   "start_time": "2022-08-21T15:17:05.035719",
   "version": "2.3.4"
  }
 },
 "nbformat": 4,
 "nbformat_minor": 5
}
